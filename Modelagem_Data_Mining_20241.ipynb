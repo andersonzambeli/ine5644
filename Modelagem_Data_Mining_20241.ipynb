{
  "nbformat": 4,
  "nbformat_minor": 0,
  "metadata": {
    "colab": {
      "provenance": [],
      "collapsed_sections": [
        "anB3i3zvLS-Q",
        "urBG7PbEMvpN",
        "JjLUAs0hbRuG",
        "cRPDLrd4xk_S",
        "TeeX4zfnzh9a",
        "0WLyhxh-2LKn"
      ]
    },
    "kernelspec": {
      "name": "python3",
      "display_name": "Python 3"
    },
    "language_info": {
      "name": "python"
    }
  },
  "cells": [
    {
      "cell_type": "markdown",
      "source": [
        "# **Importação da tabela e criação da variável target**"
      ],
      "metadata": {
        "id": "Pz0XDx8-Zmd_"
      }
    },
    {
      "cell_type": "code",
      "execution_count": null,
      "metadata": {
        "colab": {
          "base_uri": "https://localhost:8080/"
        },
        "id": "W8G9VuVkYr0j",
        "outputId": "b740933e-d020-4c77-963a-2a65c99a8631"
      },
      "outputs": [
        {
          "output_type": "stream",
          "name": "stdout",
          "text": [
            "Index(['cod_mdr', 'dsc_situacao_contrato_mdr', 'dsc_situacao_objeto_mdr',\n",
            "       'programa', 'acao', 'uf_SIGLA_UF', 'mun_MUNNOMEX', 'Código IBGE',\n",
            "       'empreendimento', 'cluster_empreendimento', 'situacao_obra',\n",
            "       'situacao_obra_base_validacao', 'situacao_contrato', 'prc_fisico',\n",
            "       'dte_inicio_obra', 'dte_fim_obra', 'pop_beneficiada',\n",
            "       'vlr_investimento', 'Populacao', 'mun_ALTITUDE', 'mun_AREA',\n",
            "       'dte_antes_60', 'dte_depois_60', 'dte_antes_180', 'dte_depois_180',\n",
            "       'dte_antes_365', 'dte_depois_365', 'cont_antes_60', 'cont_depois_60',\n",
            "       'cont_antes_180', 'cont_depois_180', 'cont_antes_365',\n",
            "       'cont_depois_365', 'razao_antes_depois_60', 'diferenca_antes_depois_60',\n",
            "       'razao_antes_depois_180', 'diferenca_antes_depois_180',\n",
            "       'razao_antes_depois_365', 'diferenca_antes_depois_365', 'tot_veic'],\n",
            "      dtype='object')\n",
            "(7647, 40)\n",
            "1       49721.0\n",
            "2       15018.0\n",
            "3       19193.0\n",
            "4       13622.0\n",
            "5       17772.0\n",
            "         ...   \n",
            "7638    73061.0\n",
            "7639    32139.0\n",
            "7640    28346.0\n",
            "7642    18315.0\n",
            "7644    98502.0\n",
            "Name: Populacao, Length: 5773, dtype: float64\n",
            "0       49721.0\n",
            "1       15018.0\n",
            "2       19193.0\n",
            "3       13622.0\n",
            "4       17772.0\n",
            "         ...   \n",
            "5768    73061.0\n",
            "5769    32139.0\n",
            "5770    28346.0\n",
            "5771    18315.0\n",
            "5772    98502.0\n",
            "Name: Populacao, Length: 5773, dtype: float64\n"
          ]
        }
      ],
      "source": [
        "import pandas as pd\n",
        "from csv import QUOTE_NONNUMERIC\n",
        "import numpy as np\n",
        "from sklearn.metrics import classification_report, confusion_matrix\n",
        "from sklearn.metrics import confusion_matrix, ConfusionMatrixDisplay\n",
        "import matplotlib.pyplot as plt\n",
        "\n",
        "\n",
        "url = \"https://github.com/andersonzambeli/ine5644/blob/main/simu_com_empreendimento_tot_veic.csv?raw=true\"\n",
        "\n",
        "# Read dataset to pandas dataframe\n",
        "dataset = pd.read_csv(url, sep=';')\n",
        "\n",
        "print(dataset.columns)\n",
        "print(dataset.shape)\n",
        "\n",
        "\n",
        "periodos = [60, 180, 365]\n",
        "\n",
        "# conditions = [\n",
        "#     (dataset['diferenca_antes_depois_' + str(periodos[2])] == 0),\n",
        "#     (dataset['diferenca_antes_depois_' + str(periodos[2])] < 0),\n",
        "#     (dataset['diferenca_antes_depois_' + str(periodos[2])] > 0)\n",
        "#     ]\n",
        "\n",
        "# values = ['Nao_influenciou', 'Aumentou', 'Diminuiu']\n",
        "# dataset['Target'] = np.select(conditions, values)\n",
        "\n",
        "x=0.135\n",
        "conditions = [\n",
        "    (dataset['razao_antes_depois_' + str(periodos[2])] == np.inf),\n",
        "    (dataset['razao_antes_depois_' + str(periodos[2])].between(1-x, 1+x)),\n",
        "    (dataset['razao_antes_depois_' + str(periodos[2])] <= 1-x),\n",
        "    (dataset['razao_antes_depois_' + str(periodos[2])] >= 1+x)\n",
        "    ]\n",
        "\n",
        "values = ['Inf', 'Nao_influenciou', 'Aumentou', 'Diminuiu']\n",
        "dataset['Target'] = np.select(conditions, values)\n",
        "\n",
        "dataset.drop(dataset[dataset[\"Target\"] == \"Inf\"].index, inplace=True)\n",
        "dataset.drop(dataset[dataset[\"Target\"] == \"0\"].index, inplace=True)\n",
        "dataset.drop(dataset[dataset[\"Target\"] == \"Nao_influenciou\"].index, inplace=True)\n",
        "\n",
        "\n",
        "# # Numeração dos empreendimentos\n",
        "\n",
        "# conditions = [\n",
        "#     (dataset[\"cluster_empreendimento\"] == \"PAVIMENTACAO\"),\n",
        "#     (dataset[\"cluster_empreendimento\"] == \"IMPLANTACAO\"),\n",
        "#     (dataset[\"cluster_empreendimento\"] == \"INFRAESTRUTURA\"),\n",
        "#     (dataset[\"cluster_empreendimento\"] == \"RECAPEAMENTO\")\n",
        "#     ]\n",
        "\n",
        "# values = [0, 1, 2, 3]\n",
        "\n",
        "# # Numeração dos Programas\n",
        "\n",
        "# dataset[\"cluster_empreendimento_num\"] = np.select(conditions, values)\n",
        "\n",
        "# conditions = [\n",
        "#     (dataset[\"programa\"] == \"AVANÇAR PÚBLICO\"),\n",
        "#     (dataset[\"programa\"] == \"EMENDAS\"),\n",
        "#     (dataset[\"programa\"] == \"PAC FIN\"),\n",
        "#     (dataset[\"programa\"] == \"SETOR PRIVADO\")\n",
        "#     ]\n",
        "\n",
        "# values = [0, 1, 2, 3]\n",
        "\n",
        "# dataset[\"programa_num\"] = np.select(conditions, values)\n",
        "\n",
        "# # Numeração dos estados\n",
        "\n",
        "estados = ['AC','AL','AP','AM','BA','CE','DF','ES','GO','MA','MT','MS','MG','PA','PB','PR','PE','PI','RJ','RN','RS','RO','RR','SC','SP','SE','TO']\n",
        "\n",
        "conditions = [\n",
        "    (dataset[\"uf_SIGLA_UF\"] == x) for x in estados]\n",
        "\n",
        "values = range(len(estados))\n",
        "\n",
        "dataset[\"uf_SIGLA_UF_num\"] = np.select(conditions, values)\n",
        "\n",
        "dataset.head()\n",
        "\n",
        "\n",
        "\n",
        "print(dataset['Populacao'])\n",
        "\n",
        "\n",
        "\n",
        "\n",
        "dataset = dataset.reset_index()\n",
        "\n",
        "one_hot_programa = pd.get_dummies(dataset[ [\"programa\"] ])\n",
        "one_hot_empreendimento = pd.get_dummies(dataset[ [\"cluster_empreendimento\"] ])\n",
        "one_hot_uf = pd.get_dummies(dataset[ [\"uf_SIGLA_UF\"] ])\n",
        "one_hot_acao = pd.get_dummies(dataset[ [\"acao\"] ])\n",
        "one_hot_municipio = pd.get_dummies(dataset[ [\"mun_MUNNOMEX\"] ])\n",
        "print(dataset['Populacao'])\n",
        "\n",
        "#one_hot_municipio"
      ]
    },
    {
      "cell_type": "markdown",
      "source": [
        "# **Separando os dados em treino e teste**"
      ],
      "metadata": {
        "id": "bVviIY-Trjc9"
      }
    },
    {
      "cell_type": "code",
      "source": [
        "from sklearn.model_selection import train_test_split\n",
        "\n",
        "# FEATURE_NAMES = [\"pop_beneficiada\", \"vlr_investimento\", \"Populacao\", \"mun_ALTITUDE\", \"mun_AREA\", \"programa_num\", \"uf_SIGLA_UF_num\"]\n",
        "\n",
        "# X = pd.DataFrame(dataset, columns = FEATURE_NAMES)\n",
        "\n",
        "y = dataset['Target']\n",
        "print(y)\n",
        "\n",
        "X = dataset[[\"pop_beneficiada\", \"vlr_investimento\", \"Populacao\", \"mun_ALTITUDE\", \"mun_AREA\", \"tot_veic\"]]\n",
        "X = pd.concat([ X,one_hot_empreendimento], axis=1)\n",
        "X = pd.concat([ X,one_hot_programa], axis=1)\n",
        "X = pd.concat([ X,one_hot_uf], axis=1)\n",
        "X = pd.concat([ X,one_hot_acao], axis=1)\n",
        "# X = pd.concat([ X,one_hot_municipio], axis=1)\n",
        "X_train, X_test, y_train, y_test = train_test_split(X, y, test_size=0.3, random_state=42,stratify=y)\n",
        "X.head()\n",
        "#y.value_counts()\n",
        "\n",
        "X_cluster = dataset[[\"pop_beneficiada\", \"vlr_investimento\", \"Populacao\", \"mun_ALTITUDE\", \"mun_AREA\", \"tot_veic\", \"Target\"]]\n",
        "#print(X_cluster.info())\n",
        "X_cluster = pd.concat([ X_cluster,one_hot_empreendimento], axis=1)\n",
        "X_cluster = pd.concat([ X_cluster,one_hot_programa], axis=1)\n",
        "X_cluster = pd.concat([ X_cluster,one_hot_uf], axis=1)\n",
        "X_cluster = pd.concat([ X_cluster,one_hot_acao], axis=1)\n",
        "# X_cluster = pd.concat([ X_cluster,one_hot_municipio], axis=1)\n",
        "X_cluster.info()\n",
        "\n",
        "\n"
      ],
      "metadata": {
        "colab": {
          "base_uri": "https://localhost:8080/"
        },
        "id": "4XsUb65HrxIu",
        "outputId": "4e646855-6c87-4c71-ebae-40f4fd0d3d89"
      },
      "execution_count": null,
      "outputs": [
        {
          "output_type": "stream",
          "name": "stdout",
          "text": [
            "0       Diminuiu\n",
            "1       Aumentou\n",
            "2       Aumentou\n",
            "3       Aumentou\n",
            "4       Diminuiu\n",
            "          ...   \n",
            "5768    Aumentou\n",
            "5769    Diminuiu\n",
            "5770    Aumentou\n",
            "5771    Aumentou\n",
            "5772    Aumentou\n",
            "Name: Target, Length: 5773, dtype: object\n",
            "<class 'pandas.core.frame.DataFrame'>\n",
            "RangeIndex: 5773 entries, 0 to 5772\n",
            "Data columns (total 46 columns):\n",
            " #   Column                                 Non-Null Count  Dtype  \n",
            "---  ------                                 --------------  -----  \n",
            " 0   pop_beneficiada                        5773 non-null   float64\n",
            " 1   vlr_investimento                       5773 non-null   float64\n",
            " 2   Populacao                              5773 non-null   float64\n",
            " 3   mun_ALTITUDE                           5773 non-null   float64\n",
            " 4   mun_AREA                               5773 non-null   float64\n",
            " 5   tot_veic                               5773 non-null   float64\n",
            " 6   Target                                 5773 non-null   object \n",
            " 7   cluster_empreendimento_IMPLANTACAO     5773 non-null   bool   \n",
            " 8   cluster_empreendimento_INFRAESTRUTURA  5773 non-null   bool   \n",
            " 9   cluster_empreendimento_PAVIMENTACAO    5773 non-null   bool   \n",
            " 10  cluster_empreendimento_RECAPEAMENTO    5773 non-null   bool   \n",
            " 11  programa_AVANÇAR PÚBLICO               5773 non-null   bool   \n",
            " 12  programa_EMENDAS                       5773 non-null   bool   \n",
            " 13  programa_PAC FIN                       5773 non-null   bool   \n",
            " 14  uf_SIGLA_UF_AC                         5773 non-null   bool   \n",
            " 15  uf_SIGLA_UF_AL                         5773 non-null   bool   \n",
            " 16  uf_SIGLA_UF_AM                         5773 non-null   bool   \n",
            " 17  uf_SIGLA_UF_BA                         5773 non-null   bool   \n",
            " 18  uf_SIGLA_UF_CE                         5773 non-null   bool   \n",
            " 19  uf_SIGLA_UF_ES                         5773 non-null   bool   \n",
            " 20  uf_SIGLA_UF_GO                         5773 non-null   bool   \n",
            " 21  uf_SIGLA_UF_MA                         5773 non-null   bool   \n",
            " 22  uf_SIGLA_UF_MG                         5773 non-null   bool   \n",
            " 23  uf_SIGLA_UF_MS                         5773 non-null   bool   \n",
            " 24  uf_SIGLA_UF_MT                         5773 non-null   bool   \n",
            " 25  uf_SIGLA_UF_PA                         5773 non-null   bool   \n",
            " 26  uf_SIGLA_UF_PB                         5773 non-null   bool   \n",
            " 27  uf_SIGLA_UF_PE                         5773 non-null   bool   \n",
            " 28  uf_SIGLA_UF_PI                         5773 non-null   bool   \n",
            " 29  uf_SIGLA_UF_PR                         5773 non-null   bool   \n",
            " 30  uf_SIGLA_UF_RJ                         5773 non-null   bool   \n",
            " 31  uf_SIGLA_UF_RN                         5773 non-null   bool   \n",
            " 32  uf_SIGLA_UF_RO                         5773 non-null   bool   \n",
            " 33  uf_SIGLA_UF_RR                         5773 non-null   bool   \n",
            " 34  uf_SIGLA_UF_RS                         5773 non-null   bool   \n",
            " 35  uf_SIGLA_UF_SC                         5773 non-null   bool   \n",
            " 36  uf_SIGLA_UF_SE                         5773 non-null   bool   \n",
            " 37  uf_SIGLA_UF_SP                         5773 non-null   bool   \n",
            " 38  uf_SIGLA_UF_TO                         5773 non-null   bool   \n",
            " 39  acao_10SS                              5773 non-null   bool   \n",
            " 40  acao_10ST                              5773 non-null   bool   \n",
            " 41  acao_10T2                              5773 non-null   bool   \n",
            " 42  acao_1D73                              5773 non-null   bool   \n",
            " 43  acao_20NR                              5773 non-null   bool   \n",
            " 44  acao_FGTS                              5773 non-null   bool   \n",
            " 45  acao_Outra                             5773 non-null   bool   \n",
            "dtypes: bool(39), float64(6), object(1)\n",
            "memory usage: 535.7+ KB\n"
          ]
        }
      ]
    },
    {
      "cell_type": "markdown",
      "source": [],
      "metadata": {
        "id": "H3xo6JTew656"
      }
    },
    {
      "cell_type": "markdown",
      "source": [
        "# **Modelo de árvore de decisão**"
      ],
      "metadata": {
        "id": "7NUV7yHpxEOK"
      }
    },
    {
      "cell_type": "markdown",
      "source": [
        "Treinamenento do modelo"
      ],
      "metadata": {
        "id": "30tdBibAxNo_"
      }
    },
    {
      "cell_type": "code",
      "source": [
        "from sklearn.ensemble import GradientBoostingClassifier\n",
        "from sklearn.ensemble import RandomForestClassifier\n",
        "from sklearn.tree import DecisionTreeClassifier\n",
        "\n",
        "\n",
        "# model = GradientBoostingClassifier(random_state=1, learning_rate=0.1) # 0.56\n",
        "# model.fit(X_train,y_train)\n",
        "\n",
        "model = RandomForestClassifier(criterion='log_loss', max_depth=90) # 0.57\n",
        "model.fit(X_train,y_train)\n",
        "\n",
        "# model = DecisionTreeClassifier(criterion='log_loss', max_depth= 30) # 0.53\n",
        "# model.fit(X_train,y_train)"
      ],
      "metadata": {
        "colab": {
          "base_uri": "https://localhost:8080/",
          "height": 75
        },
        "id": "LMr80N_GxV6u",
        "outputId": "a392a91b-9a4f-4c1a-c4e4-1fc9f80d0e67"
      },
      "execution_count": null,
      "outputs": [
        {
          "output_type": "execute_result",
          "data": {
            "text/plain": [
              "RandomForestClassifier(criterion='log_loss', max_depth=90)"
            ],
            "text/html": [
              "<style>#sk-container-id-1 {color: black;background-color: white;}#sk-container-id-1 pre{padding: 0;}#sk-container-id-1 div.sk-toggleable {background-color: white;}#sk-container-id-1 label.sk-toggleable__label {cursor: pointer;display: block;width: 100%;margin-bottom: 0;padding: 0.3em;box-sizing: border-box;text-align: center;}#sk-container-id-1 label.sk-toggleable__label-arrow:before {content: \"▸\";float: left;margin-right: 0.25em;color: #696969;}#sk-container-id-1 label.sk-toggleable__label-arrow:hover:before {color: black;}#sk-container-id-1 div.sk-estimator:hover label.sk-toggleable__label-arrow:before {color: black;}#sk-container-id-1 div.sk-toggleable__content {max-height: 0;max-width: 0;overflow: hidden;text-align: left;background-color: #f0f8ff;}#sk-container-id-1 div.sk-toggleable__content pre {margin: 0.2em;color: black;border-radius: 0.25em;background-color: #f0f8ff;}#sk-container-id-1 input.sk-toggleable__control:checked~div.sk-toggleable__content {max-height: 200px;max-width: 100%;overflow: auto;}#sk-container-id-1 input.sk-toggleable__control:checked~label.sk-toggleable__label-arrow:before {content: \"▾\";}#sk-container-id-1 div.sk-estimator input.sk-toggleable__control:checked~label.sk-toggleable__label {background-color: #d4ebff;}#sk-container-id-1 div.sk-label input.sk-toggleable__control:checked~label.sk-toggleable__label {background-color: #d4ebff;}#sk-container-id-1 input.sk-hidden--visually {border: 0;clip: rect(1px 1px 1px 1px);clip: rect(1px, 1px, 1px, 1px);height: 1px;margin: -1px;overflow: hidden;padding: 0;position: absolute;width: 1px;}#sk-container-id-1 div.sk-estimator {font-family: monospace;background-color: #f0f8ff;border: 1px dotted black;border-radius: 0.25em;box-sizing: border-box;margin-bottom: 0.5em;}#sk-container-id-1 div.sk-estimator:hover {background-color: #d4ebff;}#sk-container-id-1 div.sk-parallel-item::after {content: \"\";width: 100%;border-bottom: 1px solid gray;flex-grow: 1;}#sk-container-id-1 div.sk-label:hover label.sk-toggleable__label {background-color: #d4ebff;}#sk-container-id-1 div.sk-serial::before {content: \"\";position: absolute;border-left: 1px solid gray;box-sizing: border-box;top: 0;bottom: 0;left: 50%;z-index: 0;}#sk-container-id-1 div.sk-serial {display: flex;flex-direction: column;align-items: center;background-color: white;padding-right: 0.2em;padding-left: 0.2em;position: relative;}#sk-container-id-1 div.sk-item {position: relative;z-index: 1;}#sk-container-id-1 div.sk-parallel {display: flex;align-items: stretch;justify-content: center;background-color: white;position: relative;}#sk-container-id-1 div.sk-item::before, #sk-container-id-1 div.sk-parallel-item::before {content: \"\";position: absolute;border-left: 1px solid gray;box-sizing: border-box;top: 0;bottom: 0;left: 50%;z-index: -1;}#sk-container-id-1 div.sk-parallel-item {display: flex;flex-direction: column;z-index: 1;position: relative;background-color: white;}#sk-container-id-1 div.sk-parallel-item:first-child::after {align-self: flex-end;width: 50%;}#sk-container-id-1 div.sk-parallel-item:last-child::after {align-self: flex-start;width: 50%;}#sk-container-id-1 div.sk-parallel-item:only-child::after {width: 0;}#sk-container-id-1 div.sk-dashed-wrapped {border: 1px dashed gray;margin: 0 0.4em 0.5em 0.4em;box-sizing: border-box;padding-bottom: 0.4em;background-color: white;}#sk-container-id-1 div.sk-label label {font-family: monospace;font-weight: bold;display: inline-block;line-height: 1.2em;}#sk-container-id-1 div.sk-label-container {text-align: center;}#sk-container-id-1 div.sk-container {/* jupyter's `normalize.less` sets `[hidden] { display: none; }` but bootstrap.min.css set `[hidden] { display: none !important; }` so we also need the `!important` here to be able to override the default hidden behavior on the sphinx rendered scikit-learn.org. See: https://github.com/scikit-learn/scikit-learn/issues/21755 */display: inline-block !important;position: relative;}#sk-container-id-1 div.sk-text-repr-fallback {display: none;}</style><div id=\"sk-container-id-1\" class=\"sk-top-container\"><div class=\"sk-text-repr-fallback\"><pre>RandomForestClassifier(criterion=&#x27;log_loss&#x27;, max_depth=90)</pre><b>In a Jupyter environment, please rerun this cell to show the HTML representation or trust the notebook. <br />On GitHub, the HTML representation is unable to render, please try loading this page with nbviewer.org.</b></div><div class=\"sk-container\" hidden><div class=\"sk-item\"><div class=\"sk-estimator sk-toggleable\"><input class=\"sk-toggleable__control sk-hidden--visually\" id=\"sk-estimator-id-1\" type=\"checkbox\" checked><label for=\"sk-estimator-id-1\" class=\"sk-toggleable__label sk-toggleable__label-arrow\">RandomForestClassifier</label><div class=\"sk-toggleable__content\"><pre>RandomForestClassifier(criterion=&#x27;log_loss&#x27;, max_depth=90)</pre></div></div></div></div></div>"
            ]
          },
          "metadata": {},
          "execution_count": 4
        }
      ]
    },
    {
      "cell_type": "markdown",
      "source": [
        "Avaliação do modelo"
      ],
      "metadata": {
        "id": "oDYTXw0uxjRG"
      }
    },
    {
      "cell_type": "code",
      "source": [
        "\n",
        "accuracy_train = sum(model.predict(X_train)==y_train)/len(y_train)\n",
        "accuracy_test = sum(model.predict(X_test)==y_test)/len(y_test)\n",
        "print(f\"Acurácia no conjunto de treinamento = {accuracy_train} - acurácia no conjunto de teste = {accuracy_test}\")"
      ],
      "metadata": {
        "colab": {
          "base_uri": "https://localhost:8080/"
        },
        "id": "99WjeV8bxmiK",
        "outputId": "551e3046-3cbb-4670-e7da-db797851c507"
      },
      "execution_count": null,
      "outputs": [
        {
          "output_type": "stream",
          "name": "stdout",
          "text": [
            "Acurácia no conjunto de treinamento = 0.9990101460034645 - acurácia no conjunto de teste = 0.6414549653579676\n"
          ]
        }
      ]
    },
    {
      "cell_type": "code",
      "metadata": {
        "id": "lnERzz5wNQYp",
        "colab": {
          "base_uri": "https://localhost:8080/",
          "height": 141
        },
        "outputId": "5433df81-79e6-47bd-9861-500a282ab0d6"
      },
      "source": [
        "print(classification_report(y_test,y_pred))"
      ],
      "execution_count": null,
      "outputs": [
        {
          "output_type": "error",
          "ename": "NameError",
          "evalue": "name 'y_pred' is not defined",
          "traceback": [
            "\u001b[0;31m---------------------------------------------------------------------------\u001b[0m",
            "\u001b[0;31mNameError\u001b[0m                                 Traceback (most recent call last)",
            "\u001b[0;32m<ipython-input-12-221bda6bfc4f>\u001b[0m in \u001b[0;36m<cell line: 1>\u001b[0;34m()\u001b[0m\n\u001b[0;32m----> 1\u001b[0;31m \u001b[0mprint\u001b[0m\u001b[0;34m(\u001b[0m\u001b[0mclassification_report\u001b[0m\u001b[0;34m(\u001b[0m\u001b[0my_test\u001b[0m\u001b[0;34m,\u001b[0m\u001b[0my_pred\u001b[0m\u001b[0;34m)\u001b[0m\u001b[0;34m)\u001b[0m\u001b[0;34m\u001b[0m\u001b[0;34m\u001b[0m\u001b[0m\n\u001b[0m",
            "\u001b[0;31mNameError\u001b[0m: name 'y_pred' is not defined"
          ]
        }
      ]
    },
    {
      "cell_type": "code",
      "source": [
        "!dot -Tpng tree.dot -o tree.png"
      ],
      "metadata": {
        "colab": {
          "base_uri": "https://localhost:8080/"
        },
        "id": "oBm2FKmyyHVW",
        "outputId": "589ec4d8-3d68-4140-9f21-7a57acbbfd82"
      },
      "execution_count": null,
      "outputs": [
        {
          "output_type": "stream",
          "name": "stdout",
          "text": [
            "dot: graph is too large for cairo-renderer bitmaps. Scaling by 0.357922 to fit\n"
          ]
        }
      ]
    },
    {
      "cell_type": "code",
      "source": [
        "import matplotlib.pyplot as plt\n",
        "import cv2\n",
        "%matplotlib inline\n",
        "img = cv2.imread('tree.png')\n",
        "plt.figure(figsize = (20, 20))\n",
        "plt.imshow(img)"
      ],
      "metadata": {
        "colab": {
          "base_uri": "https://localhost:8080/",
          "height": 166
        },
        "id": "ITOGjJl6yIE2",
        "outputId": "0d3f18ed-51ed-4f63-a030-5809c57599b4"
      },
      "execution_count": null,
      "outputs": [
        {
          "output_type": "execute_result",
          "data": {
            "text/plain": [
              "<matplotlib.image.AxesImage at 0x7f3426541db0>"
            ]
          },
          "metadata": {},
          "execution_count": 48
        },
        {
          "output_type": "display_data",
          "data": {
            "text/plain": [
              "<Figure size 2000x2000 with 1 Axes>"
            ],
            "image/png": "[encoded data removed]"
          },
          "metadata": {}
        }
      ]
    },
    {
      "cell_type": "markdown",
      "source": [
        "# **NAIVE BAYES**"
      ],
      "metadata": {
        "id": "anB3i3zvLS-Q"
      }
    },
    {
      "cell_type": "markdown",
      "source": [
        "Treinamento do Modelo"
      ],
      "metadata": {
        "id": "AEqkfslRMDTH"
      }
    },
    {
      "cell_type": "code",
      "source": [
        "from sklearn.naive_bayes import GaussianNB\n",
        "model = GaussianNB()\n",
        "model.fit(X_train,y_train)"
      ],
      "metadata": {
        "colab": {
          "base_uri": "https://localhost:8080/",
          "height": 75
        },
        "id": "FGgqMg1YLXtA",
        "outputId": "ee29c20e-4900-4cb9-b4ab-abee3f7c645d"
      },
      "execution_count": null,
      "outputs": [
        {
          "output_type": "execute_result",
          "data": {
            "text/plain": [
              "GaussianNB()"
            ],
            "text/html": [
              "<style>#sk-container-id-10 {color: black;background-color: white;}#sk-container-id-10 pre{padding: 0;}#sk-container-id-10 div.sk-toggleable {background-color: white;}#sk-container-id-10 label.sk-toggleable__label {cursor: pointer;display: block;width: 100%;margin-bottom: 0;padding: 0.3em;box-sizing: border-box;text-align: center;}#sk-container-id-10 label.sk-toggleable__label-arrow:before {content: \"▸\";float: left;margin-right: 0.25em;color: #696969;}#sk-container-id-10 label.sk-toggleable__label-arrow:hover:before {color: black;}#sk-container-id-10 div.sk-estimator:hover label.sk-toggleable__label-arrow:before {color: black;}#sk-container-id-10 div.sk-toggleable__content {max-height: 0;max-width: 0;overflow: hidden;text-align: left;background-color: #f0f8ff;}#sk-container-id-10 div.sk-toggleable__content pre {margin: 0.2em;color: black;border-radius: 0.25em;background-color: #f0f8ff;}#sk-container-id-10 input.sk-toggleable__control:checked~div.sk-toggleable__content {max-height: 200px;max-width: 100%;overflow: auto;}#sk-container-id-10 input.sk-toggleable__control:checked~label.sk-toggleable__label-arrow:before {content: \"▾\";}#sk-container-id-10 div.sk-estimator input.sk-toggleable__control:checked~label.sk-toggleable__label {background-color: #d4ebff;}#sk-container-id-10 div.sk-label input.sk-toggleable__control:checked~label.sk-toggleable__label {background-color: #d4ebff;}#sk-container-id-10 input.sk-hidden--visually {border: 0;clip: rect(1px 1px 1px 1px);clip: rect(1px, 1px, 1px, 1px);height: 1px;margin: -1px;overflow: hidden;padding: 0;position: absolute;width: 1px;}#sk-container-id-10 div.sk-estimator {font-family: monospace;background-color: #f0f8ff;border: 1px dotted black;border-radius: 0.25em;box-sizing: border-box;margin-bottom: 0.5em;}#sk-container-id-10 div.sk-estimator:hover {background-color: #d4ebff;}#sk-container-id-10 div.sk-parallel-item::after {content: \"\";width: 100%;border-bottom: 1px solid gray;flex-grow: 1;}#sk-container-id-10 div.sk-label:hover label.sk-toggleable__label {background-color: #d4ebff;}#sk-container-id-10 div.sk-serial::before {content: \"\";position: absolute;border-left: 1px solid gray;box-sizing: border-box;top: 0;bottom: 0;left: 50%;z-index: 0;}#sk-container-id-10 div.sk-serial {display: flex;flex-direction: column;align-items: center;background-color: white;padding-right: 0.2em;padding-left: 0.2em;position: relative;}#sk-container-id-10 div.sk-item {position: relative;z-index: 1;}#sk-container-id-10 div.sk-parallel {display: flex;align-items: stretch;justify-content: center;background-color: white;position: relative;}#sk-container-id-10 div.sk-item::before, #sk-container-id-10 div.sk-parallel-item::before {content: \"\";position: absolute;border-left: 1px solid gray;box-sizing: border-box;top: 0;bottom: 0;left: 50%;z-index: -1;}#sk-container-id-10 div.sk-parallel-item {display: flex;flex-direction: column;z-index: 1;position: relative;background-color: white;}#sk-container-id-10 div.sk-parallel-item:first-child::after {align-self: flex-end;width: 50%;}#sk-container-id-10 div.sk-parallel-item:last-child::after {align-self: flex-start;width: 50%;}#sk-container-id-10 div.sk-parallel-item:only-child::after {width: 0;}#sk-container-id-10 div.sk-dashed-wrapped {border: 1px dashed gray;margin: 0 0.4em 0.5em 0.4em;box-sizing: border-box;padding-bottom: 0.4em;background-color: white;}#sk-container-id-10 div.sk-label label {font-family: monospace;font-weight: bold;display: inline-block;line-height: 1.2em;}#sk-container-id-10 div.sk-label-container {text-align: center;}#sk-container-id-10 div.sk-container {/* jupyter's `normalize.less` sets `[hidden] { display: none; }` but bootstrap.min.css set `[hidden] { display: none !important; }` so we also need the `!important` here to be able to override the default hidden behavior on the sphinx rendered scikit-learn.org. See: https://github.com/scikit-learn/scikit-learn/issues/21755 */display: inline-block !important;position: relative;}#sk-container-id-10 div.sk-text-repr-fallback {display: none;}</style><div id=\"sk-container-id-10\" class=\"sk-top-container\"><div class=\"sk-text-repr-fallback\"><pre>GaussianNB()</pre><b>In a Jupyter environment, please rerun this cell to show the HTML representation or trust the notebook. <br />On GitHub, the HTML representation is unable to render, please try loading this page with nbviewer.org.</b></div><div class=\"sk-container\" hidden><div class=\"sk-item\"><div class=\"sk-estimator sk-toggleable\"><input class=\"sk-toggleable__control sk-hidden--visually\" id=\"sk-estimator-id-10\" type=\"checkbox\" checked><label for=\"sk-estimator-id-10\" class=\"sk-toggleable__label sk-toggleable__label-arrow\">GaussianNB</label><div class=\"sk-toggleable__content\"><pre>GaussianNB()</pre></div></div></div></div></div>"
            ]
          },
          "metadata": {},
          "execution_count": 27
        }
      ]
    },
    {
      "cell_type": "markdown",
      "source": [
        "Avaliação do modelo"
      ],
      "metadata": {
        "id": "1qfPX1ArMFu9"
      }
    },
    {
      "cell_type": "code",
      "source": [
        "y_pred = model.predict(X_test)"
      ],
      "metadata": {
        "id": "gWSVvAxBMJHp"
      },
      "execution_count": null,
      "outputs": []
    },
    {
      "cell_type": "code",
      "source": [
        "from sklearn.metrics import classification_report, confusion_matrix\n",
        "cm = confusion_matrix(y_test, y_pred)\n",
        "print(classification_report(y_test,y_pred))\n",
        "disp = ConfusionMatrixDisplay(confusion_matrix=cm)\n",
        "disp.plot()\n",
        "plt.show()"
      ],
      "metadata": {
        "colab": {
          "base_uri": "https://localhost:8080/",
          "height": 605
        },
        "id": "U5q5lF4SMMI1",
        "outputId": "133f3c2e-0393-4d24-d920-9d0c66e43067"
      },
      "execution_count": null,
      "outputs": [
        {
          "output_type": "stream",
          "name": "stdout",
          "text": [
            "              precision    recall  f1-score   support\n",
            "\n",
            "    Aumentou       0.57      0.97      0.71       990\n",
            "    Diminuiu       0.36      0.03      0.05       753\n",
            "\n",
            "    accuracy                           0.56      1743\n",
            "   macro avg       0.46      0.50      0.38      1743\n",
            "weighted avg       0.48      0.56      0.43      1743\n",
            "\n"
          ]
        },
        {
          "output_type": "display_data",
          "data": {
            "text/plain": [
              "<Figure size 640x480 with 2 Axes>"
            ],
            "image/png": "[encoded data removed]"
          },
          "metadata": {}
        }
      ]
    },
    {
      "cell_type": "markdown",
      "source": [
        "# **SVM**"
      ],
      "metadata": {
        "id": "urBG7PbEMvpN"
      }
    },
    {
      "cell_type": "markdown",
      "source": [
        "Treinamento"
      ],
      "metadata": {
        "id": "QZAbiXOCM3iW"
      }
    },
    {
      "cell_type": "code",
      "source": [
        "from sklearn.svm import SVC\n",
        "\n",
        "model = SVC(kernel='linear')\n",
        "model.fit(X_train, y_train)"
      ],
      "metadata": {
        "id": "g7NxqhJEM5NV"
      },
      "execution_count": null,
      "outputs": []
    },
    {
      "cell_type": "markdown",
      "source": [
        "Avaliação"
      ],
      "metadata": {
        "id": "DfrBpZ7NNS8j"
      }
    },
    {
      "cell_type": "code",
      "source": [
        "y_pred = model.predict(X_test)\n",
        "print(confusion_matrix(y_test, y_pred))\n",
        "print(classification_report(y_test, y_pred))"
      ],
      "metadata": {
        "id": "sTlZS89SNU0J"
      },
      "execution_count": null,
      "outputs": []
    },
    {
      "cell_type": "markdown",
      "source": [
        "# **MPL**"
      ],
      "metadata": {
        "id": "JjLUAs0hbRuG"
      }
    },
    {
      "cell_type": "markdown",
      "source": [],
      "metadata": {
        "id": "MANG7JfbcTRg"
      }
    },
    {
      "cell_type": "markdown",
      "source": [
        "Normalização"
      ],
      "metadata": {
        "id": "9jN2DRiZcWeT"
      }
    },
    {
      "cell_type": "code",
      "source": [
        "from sklearn.preprocessing import StandardScaler\n",
        "scaler = StandardScaler()\n",
        "scaler.fit(X_train)\n",
        "\n",
        "X_train = scaler.transform(X_train)\n",
        "X_test = scaler.transform(X_test)"
      ],
      "metadata": {
        "id": "5EYTW60ZcRau"
      },
      "execution_count": null,
      "outputs": []
    },
    {
      "cell_type": "markdown",
      "source": [
        "Treinamento"
      ],
      "metadata": {
        "id": "jXCP4IyrbjGW"
      }
    },
    {
      "cell_type": "code",
      "source": [
        "from sklearn.neural_network import MLPClassifier\n",
        "\n",
        "\n",
        "mlp = MLPClassifier(hidden_layer_sizes=(80,140,80,20),max_iter=8000,random_state=1, activation='relu', solver='adam', alpha=0.001)\n",
        "mlp.fit(X_train, y_train.values.ravel())\n",
        "\n",
        "\n",
        "# from sklearn.neural_network import MLPClassifier\n",
        "\n",
        "\n",
        "# mlp = MLPClassifier(hidden_layer_sizes=(100,200,70),max_iter=8000,random_state=1, activation='relu', solver='adam', alpha=0.001)\n",
        "# mlp.fit(X_train, y_train.values.ravel())\n",
        "\n"
      ],
      "metadata": {
        "colab": {
          "base_uri": "https://localhost:8080/",
          "height": 92
        },
        "id": "s1eOHGNMblaN",
        "outputId": "8afd8ddc-b4a6-4bbb-909a-984fda37c54e"
      },
      "execution_count": null,
      "outputs": [
        {
          "output_type": "execute_result",
          "data": {
            "text/plain": [
              "MLPClassifier(alpha=0.001, hidden_layer_sizes=(80, 140, 80, 20), max_iter=8000,\n",
              "              random_state=1)"
            ],
            "text/html": [
              "<style>#sk-container-id-2 {color: black;background-color: white;}#sk-container-id-2 pre{padding: 0;}#sk-container-id-2 div.sk-toggleable {background-color: white;}#sk-container-id-2 label.sk-toggleable__label {cursor: pointer;display: block;width: 100%;margin-bottom: 0;padding: 0.3em;box-sizing: border-box;text-align: center;}#sk-container-id-2 label.sk-toggleable__label-arrow:before {content: \"▸\";float: left;margin-right: 0.25em;color: #696969;}#sk-container-id-2 label.sk-toggleable__label-arrow:hover:before {color: black;}#sk-container-id-2 div.sk-estimator:hover label.sk-toggleable__label-arrow:before {color: black;}#sk-container-id-2 div.sk-toggleable__content {max-height: 0;max-width: 0;overflow: hidden;text-align: left;background-color: #f0f8ff;}#sk-container-id-2 div.sk-toggleable__content pre {margin: 0.2em;color: black;border-radius: 0.25em;background-color: #f0f8ff;}#sk-container-id-2 input.sk-toggleable__control:checked~div.sk-toggleable__content {max-height: 200px;max-width: 100%;overflow: auto;}#sk-container-id-2 input.sk-toggleable__control:checked~label.sk-toggleable__label-arrow:before {content: \"▾\";}#sk-container-id-2 div.sk-estimator input.sk-toggleable__control:checked~label.sk-toggleable__label {background-color: #d4ebff;}#sk-container-id-2 div.sk-label input.sk-toggleable__control:checked~label.sk-toggleable__label {background-color: #d4ebff;}#sk-container-id-2 input.sk-hidden--visually {border: 0;clip: rect(1px 1px 1px 1px);clip: rect(1px, 1px, 1px, 1px);height: 1px;margin: -1px;overflow: hidden;padding: 0;position: absolute;width: 1px;}#sk-container-id-2 div.sk-estimator {font-family: monospace;background-color: #f0f8ff;border: 1px dotted black;border-radius: 0.25em;box-sizing: border-box;margin-bottom: 0.5em;}#sk-container-id-2 div.sk-estimator:hover {background-color: #d4ebff;}#sk-container-id-2 div.sk-parallel-item::after {content: \"\";width: 100%;border-bottom: 1px solid gray;flex-grow: 1;}#sk-container-id-2 div.sk-label:hover label.sk-toggleable__label {background-color: #d4ebff;}#sk-container-id-2 div.sk-serial::before {content: \"\";position: absolute;border-left: 1px solid gray;box-sizing: border-box;top: 0;bottom: 0;left: 50%;z-index: 0;}#sk-container-id-2 div.sk-serial {display: flex;flex-direction: column;align-items: center;background-color: white;padding-right: 0.2em;padding-left: 0.2em;position: relative;}#sk-container-id-2 div.sk-item {position: relative;z-index: 1;}#sk-container-id-2 div.sk-parallel {display: flex;align-items: stretch;justify-content: center;background-color: white;position: relative;}#sk-container-id-2 div.sk-item::before, #sk-container-id-2 div.sk-parallel-item::before {content: \"\";position: absolute;border-left: 1px solid gray;box-sizing: border-box;top: 0;bottom: 0;left: 50%;z-index: -1;}#sk-container-id-2 div.sk-parallel-item {display: flex;flex-direction: column;z-index: 1;position: relative;background-color: white;}#sk-container-id-2 div.sk-parallel-item:first-child::after {align-self: flex-end;width: 50%;}#sk-container-id-2 div.sk-parallel-item:last-child::after {align-self: flex-start;width: 50%;}#sk-container-id-2 div.sk-parallel-item:only-child::after {width: 0;}#sk-container-id-2 div.sk-dashed-wrapped {border: 1px dashed gray;margin: 0 0.4em 0.5em 0.4em;box-sizing: border-box;padding-bottom: 0.4em;background-color: white;}#sk-container-id-2 div.sk-label label {font-family: monospace;font-weight: bold;display: inline-block;line-height: 1.2em;}#sk-container-id-2 div.sk-label-container {text-align: center;}#sk-container-id-2 div.sk-container {/* jupyter's `normalize.less` sets `[hidden] { display: none; }` but bootstrap.min.css set `[hidden] { display: none !important; }` so we also need the `!important` here to be able to override the default hidden behavior on the sphinx rendered scikit-learn.org. See: https://github.com/scikit-learn/scikit-learn/issues/21755 */display: inline-block !important;position: relative;}#sk-container-id-2 div.sk-text-repr-fallback {display: none;}</style><div id=\"sk-container-id-2\" class=\"sk-top-container\"><div class=\"sk-text-repr-fallback\"><pre>MLPClassifier(alpha=0.001, hidden_layer_sizes=(80, 140, 80, 20), max_iter=8000,\n",
              "              random_state=1)</pre><b>In a Jupyter environment, please rerun this cell to show the HTML representation or trust the notebook. <br />On GitHub, the HTML representation is unable to render, please try loading this page with nbviewer.org.</b></div><div class=\"sk-container\" hidden><div class=\"sk-item\"><div class=\"sk-estimator sk-toggleable\"><input class=\"sk-toggleable__control sk-hidden--visually\" id=\"sk-estimator-id-2\" type=\"checkbox\" checked><label for=\"sk-estimator-id-2\" class=\"sk-toggleable__label sk-toggleable__label-arrow\">MLPClassifier</label><div class=\"sk-toggleable__content\"><pre>MLPClassifier(alpha=0.001, hidden_layer_sizes=(80, 140, 80, 20), max_iter=8000,\n",
              "              random_state=1)</pre></div></div></div></div></div>"
            ]
          },
          "metadata": {},
          "execution_count": 14
        }
      ]
    },
    {
      "cell_type": "markdown",
      "source": [
        "Avaliação"
      ],
      "metadata": {
        "id": "rFOJPDE8cqCm"
      }
    },
    {
      "cell_type": "code",
      "source": [
        "y_pred = mlp.predict(X_test)\n",
        "\n",
        "cm=confusion_matrix(y_test,y_pred)\n",
        "disp = ConfusionMatrixDisplay(confusion_matrix=cm)\n",
        "disp.plot()\n",
        "print(classification_report(y_test,y_pred))"
      ],
      "metadata": {
        "colab": {
          "base_uri": "https://localhost:8080/",
          "height": 605
        },
        "id": "gjH-uPZmcr2B",
        "outputId": "4ede2bba-93bd-4b69-f448-c34abc6c1f47"
      },
      "execution_count": null,
      "outputs": [
        {
          "output_type": "stream",
          "name": "stdout",
          "text": [
            "              precision    recall  f1-score   support\n",
            "\n",
            "    Aumentou       0.66      0.58      0.62       983\n",
            "    Diminuiu       0.53      0.62      0.57       749\n",
            "\n",
            "    accuracy                           0.59      1732\n",
            "   macro avg       0.59      0.60      0.59      1732\n",
            "weighted avg       0.60      0.59      0.59      1732\n",
            "\n"
          ]
        },
        {
          "output_type": "display_data",
          "data": {
            "text/plain": [
              "<Figure size 640x480 with 2 Axes>"
            ],
            "image/png": "[encoded data removed]"
          },
          "metadata": {}
        }
      ]
    },
    {
      "cell_type": "markdown",
      "source": [
        "# **KNN**"
      ],
      "metadata": {
        "id": "cRPDLrd4xk_S"
      }
    },
    {
      "cell_type": "markdown",
      "source": [
        "Treinamento"
      ],
      "metadata": {
        "id": "1RAXN7ICxr_U"
      }
    },
    {
      "cell_type": "code",
      "source": [
        "from sklearn.neighbors import KNeighborsClassifier\n",
        "\n",
        "# Normalização\n",
        "from sklearn.preprocessing import StandardScaler\n",
        "scaler = StandardScaler()\n",
        "scaler.fit(X_train)\n",
        "X_train = scaler.transform(X_train)\n",
        "X_test = scaler.transform(X_test)\n",
        "\n",
        "#treino\n",
        "model = KNeighborsClassifier(n_neighbors=5)\n",
        "model.fit(X_train, y_train)"
      ],
      "metadata": {
        "colab": {
          "base_uri": "https://localhost:8080/",
          "height": 75
        },
        "id": "RCjRQeDIxuV5",
        "outputId": "d7a5ce58-f794-4e79-8aff-b364b7d6d691"
      },
      "execution_count": null,
      "outputs": [
        {
          "output_type": "execute_result",
          "data": {
            "text/plain": [
              "KNeighborsClassifier()"
            ],
            "text/html": [
              "<style>#sk-container-id-1 {color: black;background-color: white;}#sk-container-id-1 pre{padding: 0;}#sk-container-id-1 div.sk-toggleable {background-color: white;}#sk-container-id-1 label.sk-toggleable__label {cursor: pointer;display: block;width: 100%;margin-bottom: 0;padding: 0.3em;box-sizing: border-box;text-align: center;}#sk-container-id-1 label.sk-toggleable__label-arrow:before {content: \"▸\";float: left;margin-right: 0.25em;color: #696969;}#sk-container-id-1 label.sk-toggleable__label-arrow:hover:before {color: black;}#sk-container-id-1 div.sk-estimator:hover label.sk-toggleable__label-arrow:before {color: black;}#sk-container-id-1 div.sk-toggleable__content {max-height: 0;max-width: 0;overflow: hidden;text-align: left;background-color: #f0f8ff;}#sk-container-id-1 div.sk-toggleable__content pre {margin: 0.2em;color: black;border-radius: 0.25em;background-color: #f0f8ff;}#sk-container-id-1 input.sk-toggleable__control:checked~div.sk-toggleable__content {max-height: 200px;max-width: 100%;overflow: auto;}#sk-container-id-1 input.sk-toggleable__control:checked~label.sk-toggleable__label-arrow:before {content: \"▾\";}#sk-container-id-1 div.sk-estimator input.sk-toggleable__control:checked~label.sk-toggleable__label {background-color: #d4ebff;}#sk-container-id-1 div.sk-label input.sk-toggleable__control:checked~label.sk-toggleable__label {background-color: #d4ebff;}#sk-container-id-1 input.sk-hidden--visually {border: 0;clip: rect(1px 1px 1px 1px);clip: rect(1px, 1px, 1px, 1px);height: 1px;margin: -1px;overflow: hidden;padding: 0;position: absolute;width: 1px;}#sk-container-id-1 div.sk-estimator {font-family: monospace;background-color: #f0f8ff;border: 1px dotted black;border-radius: 0.25em;box-sizing: border-box;margin-bottom: 0.5em;}#sk-container-id-1 div.sk-estimator:hover {background-color: #d4ebff;}#sk-container-id-1 div.sk-parallel-item::after {content: \"\";width: 100%;border-bottom: 1px solid gray;flex-grow: 1;}#sk-container-id-1 div.sk-label:hover label.sk-toggleable__label {background-color: #d4ebff;}#sk-container-id-1 div.sk-serial::before {content: \"\";position: absolute;border-left: 1px solid gray;box-sizing: border-box;top: 0;bottom: 0;left: 50%;z-index: 0;}#sk-container-id-1 div.sk-serial {display: flex;flex-direction: column;align-items: center;background-color: white;padding-right: 0.2em;padding-left: 0.2em;position: relative;}#sk-container-id-1 div.sk-item {position: relative;z-index: 1;}#sk-container-id-1 div.sk-parallel {display: flex;align-items: stretch;justify-content: center;background-color: white;position: relative;}#sk-container-id-1 div.sk-item::before, #sk-container-id-1 div.sk-parallel-item::before {content: \"\";position: absolute;border-left: 1px solid gray;box-sizing: border-box;top: 0;bottom: 0;left: 50%;z-index: -1;}#sk-container-id-1 div.sk-parallel-item {display: flex;flex-direction: column;z-index: 1;position: relative;background-color: white;}#sk-container-id-1 div.sk-parallel-item:first-child::after {align-self: flex-end;width: 50%;}#sk-container-id-1 div.sk-parallel-item:last-child::after {align-self: flex-start;width: 50%;}#sk-container-id-1 div.sk-parallel-item:only-child::after {width: 0;}#sk-container-id-1 div.sk-dashed-wrapped {border: 1px dashed gray;margin: 0 0.4em 0.5em 0.4em;box-sizing: border-box;padding-bottom: 0.4em;background-color: white;}#sk-container-id-1 div.sk-label label {font-family: monospace;font-weight: bold;display: inline-block;line-height: 1.2em;}#sk-container-id-1 div.sk-label-container {text-align: center;}#sk-container-id-1 div.sk-container {/* jupyter's `normalize.less` sets `[hidden] { display: none; }` but bootstrap.min.css set `[hidden] { display: none !important; }` so we also need the `!important` here to be able to override the default hidden behavior on the sphinx rendered scikit-learn.org. See: https://github.com/scikit-learn/scikit-learn/issues/21755 */display: inline-block !important;position: relative;}#sk-container-id-1 div.sk-text-repr-fallback {display: none;}</style><div id=\"sk-container-id-1\" class=\"sk-top-container\"><div class=\"sk-text-repr-fallback\"><pre>KNeighborsClassifier()</pre><b>In a Jupyter environment, please rerun this cell to show the HTML representation or trust the notebook. <br />On GitHub, the HTML representation is unable to render, please try loading this page with nbviewer.org.</b></div><div class=\"sk-container\" hidden><div class=\"sk-item\"><div class=\"sk-estimator sk-toggleable\"><input class=\"sk-toggleable__control sk-hidden--visually\" id=\"sk-estimator-id-1\" type=\"checkbox\" checked><label for=\"sk-estimator-id-1\" class=\"sk-toggleable__label sk-toggleable__label-arrow\">KNeighborsClassifier</label><div class=\"sk-toggleable__content\"><pre>KNeighborsClassifier()</pre></div></div></div></div></div>"
            ]
          },
          "metadata": {},
          "execution_count": 6
        }
      ]
    },
    {
      "cell_type": "markdown",
      "source": [
        "Avaliação"
      ],
      "metadata": {
        "id": "auV0HTP5yK3r"
      }
    },
    {
      "cell_type": "code",
      "source": [
        "y_pred = model.predict(X_test)\n",
        "\n",
        "cm=confusion_matrix(y_test,y_pred)\n",
        "disp = ConfusionMatrixDisplay(confusion_matrix=cm)\n",
        "disp.plot()\n",
        "print(classification_report(y_test,y_pred))"
      ],
      "metadata": {
        "colab": {
          "base_uri": "https://localhost:8080/",
          "height": 605
        },
        "id": "c9r0K6IkyMfQ",
        "outputId": "adfb51cb-4e80-4bfe-9c80-cb7a4efd6cdc"
      },
      "execution_count": null,
      "outputs": [
        {
          "output_type": "stream",
          "name": "stdout",
          "text": [
            "              precision    recall  f1-score   support\n",
            "\n",
            "    Aumentou       0.62      0.67      0.64       990\n",
            "    Diminuiu       0.51      0.45      0.48       753\n",
            "\n",
            "    accuracy                           0.57      1743\n",
            "   macro avg       0.56      0.56      0.56      1743\n",
            "weighted avg       0.57      0.57      0.57      1743\n",
            "\n"
          ]
        },
        {
          "output_type": "display_data",
          "data": {
            "text/plain": [
              "<Figure size 640x480 with 2 Axes>"
            ],
            "image/png": "[encoded data removed]"
          },
          "metadata": {}
        }
      ]
    },
    {
      "cell_type": "markdown",
      "source": [],
      "metadata": {
        "id": "QpTAETDPyKhA"
      }
    },
    {
      "cell_type": "markdown",
      "source": [
        "# **Gaussian Process**"
      ],
      "metadata": {
        "id": "TeeX4zfnzh9a"
      }
    },
    {
      "cell_type": "markdown",
      "source": [
        "Treinamento"
      ],
      "metadata": {
        "id": "Y3SxIwEtzvmF"
      }
    },
    {
      "cell_type": "code",
      "source": [
        "# Lento\n",
        "\n",
        "from sklearn.gaussian_process import GaussianProcessClassifier\n",
        "\n",
        "from sklearn.gaussian_process.kernels import RBF\n",
        "\n",
        "kernel = 1.0 * RBF(1.0)\n",
        "\n",
        "model = GaussianProcessClassifier(kernel=kernel, random_state=0)\n",
        "model.fit(X_train, y_train)"
      ],
      "metadata": {
        "colab": {
          "base_uri": "https://localhost:8080/",
          "height": 322
        },
        "id": "jtjprgCCbRNM",
        "outputId": "786b6212-745d-429b-8d19-b4f3e302df24"
      },
      "execution_count": null,
      "outputs": [
        {
          "output_type": "error",
          "ename": "KeyboardInterrupt",
          "evalue": "",
          "traceback": [
            "\u001b[0;31m---------------------------------------------------------------------------\u001b[0m",
            "\u001b[0;31mKeyboardInterrupt\u001b[0m                         Traceback (most recent call last)",
            "\u001b[0;32m<ipython-input-65-25febdbd67c0>\u001b[0m in \u001b[0;36m<cell line: 8>\u001b[0;34m()\u001b[0m\n\u001b[1;32m      6\u001b[0m \u001b[0;34m\u001b[0m\u001b[0m\n\u001b[1;32m      7\u001b[0m \u001b[0mmodel\u001b[0m \u001b[0;34m=\u001b[0m \u001b[0mGaussianProcessClassifier\u001b[0m\u001b[0;34m(\u001b[0m\u001b[0mkernel\u001b[0m\u001b[0;34m=\u001b[0m\u001b[0mkernel\u001b[0m\u001b[0;34m,\u001b[0m \u001b[0mrandom_state\u001b[0m\u001b[0;34m=\u001b[0m\u001b[0;36m0\u001b[0m\u001b[0;34m)\u001b[0m\u001b[0;34m\u001b[0m\u001b[0;34m\u001b[0m\u001b[0m\n\u001b[0;32m----> 8\u001b[0;31m \u001b[0mmodel\u001b[0m\u001b[0;34m.\u001b[0m\u001b[0mfit\u001b[0m\u001b[0;34m(\u001b[0m\u001b[0mX_train\u001b[0m\u001b[0;34m,\u001b[0m \u001b[0my_train\u001b[0m\u001b[0;34m)\u001b[0m\u001b[0;34m\u001b[0m\u001b[0;34m\u001b[0m\u001b[0m\n\u001b[0m",
            "\u001b[0;32m/usr/local/lib/python3.10/dist-packages/sklearn/gaussian_process/_gpc.py\u001b[0m in \u001b[0;36mfit\u001b[0;34m(self, X, y)\u001b[0m\n\u001b[1;32m    740\u001b[0m                 \u001b[0;32mraise\u001b[0m \u001b[0mValueError\u001b[0m\u001b[0;34m(\u001b[0m\u001b[0;34m\"Unknown multi-class mode %s\"\u001b[0m \u001b[0;34m%\u001b[0m \u001b[0mself\u001b[0m\u001b[0;34m.\u001b[0m\u001b[0mmulti_class\u001b[0m\u001b[0;34m)\u001b[0m\u001b[0;34m\u001b[0m\u001b[0;34m\u001b[0m\u001b[0m\n\u001b[1;32m    741\u001b[0m \u001b[0;34m\u001b[0m\u001b[0m\n\u001b[0;32m--> 742\u001b[0;31m         \u001b[0mself\u001b[0m\u001b[0;34m.\u001b[0m\u001b[0mbase_estimator_\u001b[0m\u001b[0;34m.\u001b[0m\u001b[0mfit\u001b[0m\u001b[0;34m(\u001b[0m\u001b[0mX\u001b[0m\u001b[0;34m,\u001b[0m \u001b[0my\u001b[0m\u001b[0;34m)\u001b[0m\u001b[0;34m\u001b[0m\u001b[0;34m\u001b[0m\u001b[0m\n\u001b[0m\u001b[1;32m    743\u001b[0m \u001b[0;34m\u001b[0m\u001b[0m\n\u001b[1;32m    744\u001b[0m         \u001b[0;32mif\u001b[0m \u001b[0mself\u001b[0m\u001b[0;34m.\u001b[0m\u001b[0mn_classes_\u001b[0m \u001b[0;34m>\u001b[0m \u001b[0;36m2\u001b[0m\u001b[0;34m:\u001b[0m\u001b[0;34m\u001b[0m\u001b[0;34m\u001b[0m\u001b[0m\n",
            "\u001b[0;32m/usr/local/lib/python3.10/dist-packages/sklearn/gaussian_process/_gpc.py\u001b[0m in \u001b[0;36mfit\u001b[0;34m(self, X, y)\u001b[0m\n\u001b[1;32m    227\u001b[0m             \u001b[0;31m# First optimize starting from theta specified in kernel\u001b[0m\u001b[0;34m\u001b[0m\u001b[0;34m\u001b[0m\u001b[0m\n\u001b[1;32m    228\u001b[0m             optima = [\n\u001b[0;32m--> 229\u001b[0;31m                 self._constrained_optimization(\n\u001b[0m\u001b[1;32m    230\u001b[0m                     \u001b[0mobj_func\u001b[0m\u001b[0;34m,\u001b[0m \u001b[0mself\u001b[0m\u001b[0;34m.\u001b[0m\u001b[0mkernel_\u001b[0m\u001b[0;34m.\u001b[0m\u001b[0mtheta\u001b[0m\u001b[0;34m,\u001b[0m \u001b[0mself\u001b[0m\u001b[0;34m.\u001b[0m\u001b[0mkernel_\u001b[0m\u001b[0;34m.\u001b[0m\u001b[0mbounds\u001b[0m\u001b[0;34m\u001b[0m\u001b[0;34m\u001b[0m\u001b[0m\n\u001b[1;32m    231\u001b[0m                 )\n",
            "\u001b[0;32m/usr/local/lib/python3.10/dist-packages/sklearn/gaussian_process/_gpc.py\u001b[0m in \u001b[0;36m_constrained_optimization\u001b[0;34m(self, obj_func, initial_theta, bounds)\u001b[0m\n\u001b[1;32m    472\u001b[0m     \u001b[0;32mdef\u001b[0m \u001b[0m_constrained_optimization\u001b[0m\u001b[0;34m(\u001b[0m\u001b[0mself\u001b[0m\u001b[0;34m,\u001b[0m \u001b[0mobj_func\u001b[0m\u001b[0;34m,\u001b[0m \u001b[0minitial_theta\u001b[0m\u001b[0;34m,\u001b[0m \u001b[0mbounds\u001b[0m\u001b[0;34m)\u001b[0m\u001b[0;34m:\u001b[0m\u001b[0;34m\u001b[0m\u001b[0;34m\u001b[0m\u001b[0m\n\u001b[1;32m    473\u001b[0m         \u001b[0;32mif\u001b[0m \u001b[0mself\u001b[0m\u001b[0;34m.\u001b[0m\u001b[0moptimizer\u001b[0m \u001b[0;34m==\u001b[0m \u001b[0;34m\"fmin_l_bfgs_b\"\u001b[0m\u001b[0;34m:\u001b[0m\u001b[0;34m\u001b[0m\u001b[0;34m\u001b[0m\u001b[0m\n\u001b[0;32m--> 474\u001b[0;31m             opt_res = scipy.optimize.minimize(\n\u001b[0m\u001b[1;32m    475\u001b[0m                 \u001b[0mobj_func\u001b[0m\u001b[0;34m,\u001b[0m \u001b[0minitial_theta\u001b[0m\u001b[0;34m,\u001b[0m \u001b[0mmethod\u001b[0m\u001b[0;34m=\u001b[0m\u001b[0;34m\"L-BFGS-B\"\u001b[0m\u001b[0;34m,\u001b[0m \u001b[0mjac\u001b[0m\u001b[0;34m=\u001b[0m\u001b[0;32mTrue\u001b[0m\u001b[0;34m,\u001b[0m \u001b[0mbounds\u001b[0m\u001b[0;34m=\u001b[0m\u001b[0mbounds\u001b[0m\u001b[0;34m\u001b[0m\u001b[0;34m\u001b[0m\u001b[0m\n\u001b[1;32m    476\u001b[0m             )\n",
            "\u001b[0;32m/usr/local/lib/python3.10/dist-packages/scipy/optimize/_minimize.py\u001b[0m in \u001b[0;36mminimize\u001b[0;34m(fun, x0, args, method, jac, hess, hessp, bounds, constraints, tol, callback, options)\u001b[0m\n\u001b[1;32m    708\u001b[0m                                  **options)\n\u001b[1;32m    709\u001b[0m     \u001b[0;32melif\u001b[0m \u001b[0mmeth\u001b[0m \u001b[0;34m==\u001b[0m \u001b[0;34m'l-bfgs-b'\u001b[0m\u001b[0;34m:\u001b[0m\u001b[0;34m\u001b[0m\u001b[0;34m\u001b[0m\u001b[0m\n\u001b[0;32m--> 710\u001b[0;31m         res = _minimize_lbfgsb(fun, x0, args, jac, bounds,\n\u001b[0m\u001b[1;32m    711\u001b[0m                                callback=callback, **options)\n\u001b[1;32m    712\u001b[0m     \u001b[0;32melif\u001b[0m \u001b[0mmeth\u001b[0m \u001b[0;34m==\u001b[0m \u001b[0;34m'tnc'\u001b[0m\u001b[0;34m:\u001b[0m\u001b[0;34m\u001b[0m\u001b[0;34m\u001b[0m\u001b[0m\n",
            "\u001b[0;32m/usr/local/lib/python3.10/dist-packages/scipy/optimize/_lbfgsb_py.py\u001b[0m in \u001b[0;36m_minimize_lbfgsb\u001b[0;34m(fun, x0, args, jac, bounds, disp, maxcor, ftol, gtol, eps, maxfun, maxiter, iprint, callback, maxls, finite_diff_rel_step, **unknown_options)\u001b[0m\n\u001b[1;32m    363\u001b[0m             \u001b[0;31m# until the completion of the current minimization iteration.\u001b[0m\u001b[0;34m\u001b[0m\u001b[0;34m\u001b[0m\u001b[0m\n\u001b[1;32m    364\u001b[0m             \u001b[0;31m# Overwrite f and g:\u001b[0m\u001b[0;34m\u001b[0m\u001b[0;34m\u001b[0m\u001b[0m\n\u001b[0;32m--> 365\u001b[0;31m             \u001b[0mf\u001b[0m\u001b[0;34m,\u001b[0m \u001b[0mg\u001b[0m \u001b[0;34m=\u001b[0m \u001b[0mfunc_and_grad\u001b[0m\u001b[0;34m(\u001b[0m\u001b[0mx\u001b[0m\u001b[0;34m)\u001b[0m\u001b[0;34m\u001b[0m\u001b[0;34m\u001b[0m\u001b[0m\n\u001b[0m\u001b[1;32m    366\u001b[0m         \u001b[0;32melif\u001b[0m \u001b[0mtask_str\u001b[0m\u001b[0;34m.\u001b[0m\u001b[0mstartswith\u001b[0m\u001b[0;34m(\u001b[0m\u001b[0;34mb'NEW_X'\u001b[0m\u001b[0;34m)\u001b[0m\u001b[0;34m:\u001b[0m\u001b[0;34m\u001b[0m\u001b[0;34m\u001b[0m\u001b[0m\n\u001b[1;32m    367\u001b[0m             \u001b[0;31m# new iteration\u001b[0m\u001b[0;34m\u001b[0m\u001b[0;34m\u001b[0m\u001b[0m\n",
            "\u001b[0;32m/usr/local/lib/python3.10/dist-packages/scipy/optimize/_differentiable_functions.py\u001b[0m in \u001b[0;36mfun_and_grad\u001b[0;34m(self, x)\u001b[0m\n\u001b[1;32m    283\u001b[0m         \u001b[0;32mif\u001b[0m \u001b[0;32mnot\u001b[0m \u001b[0mnp\u001b[0m\u001b[0;34m.\u001b[0m\u001b[0marray_equal\u001b[0m\u001b[0;34m(\u001b[0m\u001b[0mx\u001b[0m\u001b[0;34m,\u001b[0m \u001b[0mself\u001b[0m\u001b[0;34m.\u001b[0m\u001b[0mx\u001b[0m\u001b[0;34m)\u001b[0m\u001b[0;34m:\u001b[0m\u001b[0;34m\u001b[0m\u001b[0;34m\u001b[0m\u001b[0m\n\u001b[1;32m    284\u001b[0m             \u001b[0mself\u001b[0m\u001b[0;34m.\u001b[0m\u001b[0m_update_x_impl\u001b[0m\u001b[0;34m(\u001b[0m\u001b[0mx\u001b[0m\u001b[0;34m)\u001b[0m\u001b[0;34m\u001b[0m\u001b[0;34m\u001b[0m\u001b[0m\n\u001b[0;32m--> 285\u001b[0;31m         \u001b[0mself\u001b[0m\u001b[0;34m.\u001b[0m\u001b[0m_update_fun\u001b[0m\u001b[0;34m(\u001b[0m\u001b[0;34m)\u001b[0m\u001b[0;34m\u001b[0m\u001b[0;34m\u001b[0m\u001b[0m\n\u001b[0m\u001b[1;32m    286\u001b[0m         \u001b[0mself\u001b[0m\u001b[0;34m.\u001b[0m\u001b[0m_update_grad\u001b[0m\u001b[0;34m(\u001b[0m\u001b[0;34m)\u001b[0m\u001b[0;34m\u001b[0m\u001b[0;34m\u001b[0m\u001b[0m\n\u001b[1;32m    287\u001b[0m         \u001b[0;32mreturn\u001b[0m \u001b[0mself\u001b[0m\u001b[0;34m.\u001b[0m\u001b[0mf\u001b[0m\u001b[0;34m,\u001b[0m \u001b[0mself\u001b[0m\u001b[0;34m.\u001b[0m\u001b[0mg\u001b[0m\u001b[0;34m\u001b[0m\u001b[0;34m\u001b[0m\u001b[0m\n",
            "\u001b[0;32m/usr/local/lib/python3.10/dist-packages/scipy/optimize/_differentiable_functions.py\u001b[0m in \u001b[0;36m_update_fun\u001b[0;34m(self)\u001b[0m\n\u001b[1;32m    249\u001b[0m     \u001b[0;32mdef\u001b[0m \u001b[0m_update_fun\u001b[0m\u001b[0;34m(\u001b[0m\u001b[0mself\u001b[0m\u001b[0;34m)\u001b[0m\u001b[0;34m:\u001b[0m\u001b[0;34m\u001b[0m\u001b[0;34m\u001b[0m\u001b[0m\n\u001b[1;32m    250\u001b[0m         \u001b[0;32mif\u001b[0m \u001b[0;32mnot\u001b[0m \u001b[0mself\u001b[0m\u001b[0;34m.\u001b[0m\u001b[0mf_updated\u001b[0m\u001b[0;34m:\u001b[0m\u001b[0;34m\u001b[0m\u001b[0;34m\u001b[0m\u001b[0m\n\u001b[0;32m--> 251\u001b[0;31m             \u001b[0mself\u001b[0m\u001b[0;34m.\u001b[0m\u001b[0m_update_fun_impl\u001b[0m\u001b[0;34m(\u001b[0m\u001b[0;34m)\u001b[0m\u001b[0;34m\u001b[0m\u001b[0;34m\u001b[0m\u001b[0m\n\u001b[0m\u001b[1;32m    252\u001b[0m             \u001b[0mself\u001b[0m\u001b[0;34m.\u001b[0m\u001b[0mf_updated\u001b[0m \u001b[0;34m=\u001b[0m \u001b[0;32mTrue\u001b[0m\u001b[0;34m\u001b[0m\u001b[0;34m\u001b[0m\u001b[0m\n\u001b[1;32m    253\u001b[0m \u001b[0;34m\u001b[0m\u001b[0m\n",
            "\u001b[0;32m/usr/local/lib/python3.10/dist-packages/scipy/optimize/_differentiable_functions.py\u001b[0m in \u001b[0;36mupdate_fun\u001b[0;34m()\u001b[0m\n\u001b[1;32m    153\u001b[0m \u001b[0;34m\u001b[0m\u001b[0m\n\u001b[1;32m    154\u001b[0m         \u001b[0;32mdef\u001b[0m \u001b[0mupdate_fun\u001b[0m\u001b[0;34m(\u001b[0m\u001b[0;34m)\u001b[0m\u001b[0;34m:\u001b[0m\u001b[0;34m\u001b[0m\u001b[0;34m\u001b[0m\u001b[0m\n\u001b[0;32m--> 155\u001b[0;31m             \u001b[0mself\u001b[0m\u001b[0;34m.\u001b[0m\u001b[0mf\u001b[0m \u001b[0;34m=\u001b[0m \u001b[0mfun_wrapped\u001b[0m\u001b[0;34m(\u001b[0m\u001b[0mself\u001b[0m\u001b[0;34m.\u001b[0m\u001b[0mx\u001b[0m\u001b[0;34m)\u001b[0m\u001b[0;34m\u001b[0m\u001b[0;34m\u001b[0m\u001b[0m\n\u001b[0m\u001b[1;32m    156\u001b[0m \u001b[0;34m\u001b[0m\u001b[0m\n\u001b[1;32m    157\u001b[0m         \u001b[0mself\u001b[0m\u001b[0;34m.\u001b[0m\u001b[0m_update_fun_impl\u001b[0m \u001b[0;34m=\u001b[0m \u001b[0mupdate_fun\u001b[0m\u001b[0;34m\u001b[0m\u001b[0;34m\u001b[0m\u001b[0m\n",
            "\u001b[0;32m/usr/local/lib/python3.10/dist-packages/scipy/optimize/_differentiable_functions.py\u001b[0m in \u001b[0;36mfun_wrapped\u001b[0;34m(x)\u001b[0m\n\u001b[1;32m    135\u001b[0m             \u001b[0;31m# Overwriting results in undefined behaviour because\u001b[0m\u001b[0;34m\u001b[0m\u001b[0;34m\u001b[0m\u001b[0m\n\u001b[1;32m    136\u001b[0m             \u001b[0;31m# fun(self.x) will change self.x, with the two no longer linked.\u001b[0m\u001b[0;34m\u001b[0m\u001b[0;34m\u001b[0m\u001b[0m\n\u001b[0;32m--> 137\u001b[0;31m             \u001b[0mfx\u001b[0m \u001b[0;34m=\u001b[0m \u001b[0mfun\u001b[0m\u001b[0;34m(\u001b[0m\u001b[0mnp\u001b[0m\u001b[0;34m.\u001b[0m\u001b[0mcopy\u001b[0m\u001b[0;34m(\u001b[0m\u001b[0mx\u001b[0m\u001b[0;34m)\u001b[0m\u001b[0;34m,\u001b[0m \u001b[0;34m*\u001b[0m\u001b[0margs\u001b[0m\u001b[0;34m)\u001b[0m\u001b[0;34m\u001b[0m\u001b[0;34m\u001b[0m\u001b[0m\n\u001b[0m\u001b[1;32m    138\u001b[0m             \u001b[0;31m# Make sure the function returns a true scalar\u001b[0m\u001b[0;34m\u001b[0m\u001b[0;34m\u001b[0m\u001b[0m\n\u001b[1;32m    139\u001b[0m             \u001b[0;32mif\u001b[0m \u001b[0;32mnot\u001b[0m \u001b[0mnp\u001b[0m\u001b[0;34m.\u001b[0m\u001b[0misscalar\u001b[0m\u001b[0;34m(\u001b[0m\u001b[0mfx\u001b[0m\u001b[0;34m)\u001b[0m\u001b[0;34m:\u001b[0m\u001b[0;34m\u001b[0m\u001b[0;34m\u001b[0m\u001b[0m\n",
            "\u001b[0;32m/usr/local/lib/python3.10/dist-packages/scipy/optimize/_optimize.py\u001b[0m in \u001b[0;36m__call__\u001b[0;34m(self, x, *args)\u001b[0m\n\u001b[1;32m     75\u001b[0m     \u001b[0;32mdef\u001b[0m \u001b[0m__call__\u001b[0m\u001b[0;34m(\u001b[0m\u001b[0mself\u001b[0m\u001b[0;34m,\u001b[0m \u001b[0mx\u001b[0m\u001b[0;34m,\u001b[0m \u001b[0;34m*\u001b[0m\u001b[0margs\u001b[0m\u001b[0;34m)\u001b[0m\u001b[0;34m:\u001b[0m\u001b[0;34m\u001b[0m\u001b[0;34m\u001b[0m\u001b[0m\n\u001b[1;32m     76\u001b[0m         \u001b[0;34m\"\"\" returns the function value \"\"\"\u001b[0m\u001b[0;34m\u001b[0m\u001b[0;34m\u001b[0m\u001b[0m\n\u001b[0;32m---> 77\u001b[0;31m         \u001b[0mself\u001b[0m\u001b[0;34m.\u001b[0m\u001b[0m_compute_if_needed\u001b[0m\u001b[0;34m(\u001b[0m\u001b[0mx\u001b[0m\u001b[0;34m,\u001b[0m \u001b[0;34m*\u001b[0m\u001b[0margs\u001b[0m\u001b[0;34m)\u001b[0m\u001b[0;34m\u001b[0m\u001b[0;34m\u001b[0m\u001b[0m\n\u001b[0m\u001b[1;32m     78\u001b[0m         \u001b[0;32mreturn\u001b[0m \u001b[0mself\u001b[0m\u001b[0;34m.\u001b[0m\u001b[0m_value\u001b[0m\u001b[0;34m\u001b[0m\u001b[0;34m\u001b[0m\u001b[0m\n\u001b[1;32m     79\u001b[0m \u001b[0;34m\u001b[0m\u001b[0m\n",
            "\u001b[0;32m/usr/local/lib/python3.10/dist-packages/scipy/optimize/_optimize.py\u001b[0m in \u001b[0;36m_compute_if_needed\u001b[0;34m(self, x, *args)\u001b[0m\n\u001b[1;32m     69\u001b[0m         \u001b[0;32mif\u001b[0m \u001b[0;32mnot\u001b[0m \u001b[0mnp\u001b[0m\u001b[0;34m.\u001b[0m\u001b[0mall\u001b[0m\u001b[0;34m(\u001b[0m\u001b[0mx\u001b[0m \u001b[0;34m==\u001b[0m \u001b[0mself\u001b[0m\u001b[0;34m.\u001b[0m\u001b[0mx\u001b[0m\u001b[0;34m)\u001b[0m \u001b[0;32mor\u001b[0m \u001b[0mself\u001b[0m\u001b[0;34m.\u001b[0m\u001b[0m_value\u001b[0m \u001b[0;32mis\u001b[0m \u001b[0;32mNone\u001b[0m \u001b[0;32mor\u001b[0m \u001b[0mself\u001b[0m\u001b[0;34m.\u001b[0m\u001b[0mjac\u001b[0m \u001b[0;32mis\u001b[0m \u001b[0;32mNone\u001b[0m\u001b[0;34m:\u001b[0m\u001b[0;34m\u001b[0m\u001b[0;34m\u001b[0m\u001b[0m\n\u001b[1;32m     70\u001b[0m             \u001b[0mself\u001b[0m\u001b[0;34m.\u001b[0m\u001b[0mx\u001b[0m \u001b[0;34m=\u001b[0m \u001b[0mnp\u001b[0m\u001b[0;34m.\u001b[0m\u001b[0masarray\u001b[0m\u001b[0;34m(\u001b[0m\u001b[0mx\u001b[0m\u001b[0;34m)\u001b[0m\u001b[0;34m.\u001b[0m\u001b[0mcopy\u001b[0m\u001b[0;34m(\u001b[0m\u001b[0;34m)\u001b[0m\u001b[0;34m\u001b[0m\u001b[0;34m\u001b[0m\u001b[0m\n\u001b[0;32m---> 71\u001b[0;31m             \u001b[0mfg\u001b[0m \u001b[0;34m=\u001b[0m \u001b[0mself\u001b[0m\u001b[0;34m.\u001b[0m\u001b[0mfun\u001b[0m\u001b[0;34m(\u001b[0m\u001b[0mx\u001b[0m\u001b[0;34m,\u001b[0m \u001b[0;34m*\u001b[0m\u001b[0margs\u001b[0m\u001b[0;34m)\u001b[0m\u001b[0;34m\u001b[0m\u001b[0;34m\u001b[0m\u001b[0m\n\u001b[0m\u001b[1;32m     72\u001b[0m             \u001b[0mself\u001b[0m\u001b[0;34m.\u001b[0m\u001b[0mjac\u001b[0m \u001b[0;34m=\u001b[0m \u001b[0mfg\u001b[0m\u001b[0;34m[\u001b[0m\u001b[0;36m1\u001b[0m\u001b[0;34m]\u001b[0m\u001b[0;34m\u001b[0m\u001b[0;34m\u001b[0m\u001b[0m\n\u001b[1;32m     73\u001b[0m             \u001b[0mself\u001b[0m\u001b[0;34m.\u001b[0m\u001b[0m_value\u001b[0m \u001b[0;34m=\u001b[0m \u001b[0mfg\u001b[0m\u001b[0;34m[\u001b[0m\u001b[0;36m0\u001b[0m\u001b[0;34m]\u001b[0m\u001b[0;34m\u001b[0m\u001b[0;34m\u001b[0m\u001b[0m\n",
            "\u001b[0;32m/usr/local/lib/python3.10/dist-packages/sklearn/gaussian_process/_gpc.py\u001b[0m in \u001b[0;36mobj_func\u001b[0;34m(theta, eval_gradient)\u001b[0m\n\u001b[1;32m    218\u001b[0m             \u001b[0;32mdef\u001b[0m \u001b[0mobj_func\u001b[0m\u001b[0;34m(\u001b[0m\u001b[0mtheta\u001b[0m\u001b[0;34m,\u001b[0m \u001b[0meval_gradient\u001b[0m\u001b[0;34m=\u001b[0m\u001b[0;32mTrue\u001b[0m\u001b[0;34m)\u001b[0m\u001b[0;34m:\u001b[0m\u001b[0;34m\u001b[0m\u001b[0;34m\u001b[0m\u001b[0m\n\u001b[1;32m    219\u001b[0m                 \u001b[0;32mif\u001b[0m \u001b[0meval_gradient\u001b[0m\u001b[0;34m:\u001b[0m\u001b[0;34m\u001b[0m\u001b[0;34m\u001b[0m\u001b[0m\n\u001b[0;32m--> 220\u001b[0;31m                     lml, grad = self.log_marginal_likelihood(\n\u001b[0m\u001b[1;32m    221\u001b[0m                         \u001b[0mtheta\u001b[0m\u001b[0;34m,\u001b[0m \u001b[0meval_gradient\u001b[0m\u001b[0;34m=\u001b[0m\u001b[0;32mTrue\u001b[0m\u001b[0;34m,\u001b[0m \u001b[0mclone_kernel\u001b[0m\u001b[0;34m=\u001b[0m\u001b[0;32mFalse\u001b[0m\u001b[0;34m\u001b[0m\u001b[0;34m\u001b[0m\u001b[0m\n\u001b[1;32m    222\u001b[0m                     )\n",
            "\u001b[0;32m/usr/local/lib/python3.10/dist-packages/sklearn/gaussian_process/_gpc.py\u001b[0m in \u001b[0;36mlog_marginal_likelihood\u001b[0;34m(self, theta, eval_gradient, clone_kernel)\u001b[0m\n\u001b[1;32m    392\u001b[0m         \u001b[0;31m# XXX: Get rid of the np.diag() in the next line\u001b[0m\u001b[0;34m\u001b[0m\u001b[0;34m\u001b[0m\u001b[0m\n\u001b[1;32m    393\u001b[0m         \u001b[0mR\u001b[0m \u001b[0;34m=\u001b[0m \u001b[0mW_sr\u001b[0m\u001b[0;34m[\u001b[0m\u001b[0;34m:\u001b[0m\u001b[0;34m,\u001b[0m \u001b[0mnp\u001b[0m\u001b[0;34m.\u001b[0m\u001b[0mnewaxis\u001b[0m\u001b[0;34m]\u001b[0m \u001b[0;34m*\u001b[0m \u001b[0mcho_solve\u001b[0m\u001b[0;34m(\u001b[0m\u001b[0;34m(\u001b[0m\u001b[0mL\u001b[0m\u001b[0;34m,\u001b[0m \u001b[0;32mTrue\u001b[0m\u001b[0;34m)\u001b[0m\u001b[0;34m,\u001b[0m \u001b[0mnp\u001b[0m\u001b[0;34m.\u001b[0m\u001b[0mdiag\u001b[0m\u001b[0;34m(\u001b[0m\u001b[0mW_sr\u001b[0m\u001b[0;34m)\u001b[0m\u001b[0;34m)\u001b[0m  \u001b[0;31m# Line 7\u001b[0m\u001b[0;34m\u001b[0m\u001b[0;34m\u001b[0m\u001b[0m\n\u001b[0;32m--> 394\u001b[0;31m         \u001b[0mC\u001b[0m \u001b[0;34m=\u001b[0m \u001b[0msolve\u001b[0m\u001b[0;34m(\u001b[0m\u001b[0mL\u001b[0m\u001b[0;34m,\u001b[0m \u001b[0mW_sr\u001b[0m\u001b[0;34m[\u001b[0m\u001b[0;34m:\u001b[0m\u001b[0;34m,\u001b[0m \u001b[0mnp\u001b[0m\u001b[0;34m.\u001b[0m\u001b[0mnewaxis\u001b[0m\u001b[0;34m]\u001b[0m \u001b[0;34m*\u001b[0m \u001b[0mK\u001b[0m\u001b[0;34m)\u001b[0m  \u001b[0;31m# Line 8\u001b[0m\u001b[0;34m\u001b[0m\u001b[0;34m\u001b[0m\u001b[0m\n\u001b[0m\u001b[1;32m    395\u001b[0m         \u001b[0;31m# Line 9: (use einsum to compute np.diag(C.T.dot(C))))\u001b[0m\u001b[0;34m\u001b[0m\u001b[0;34m\u001b[0m\u001b[0m\n\u001b[1;32m    396\u001b[0m         s_2 = (\n",
            "\u001b[0;32m/usr/local/lib/python3.10/dist-packages/scipy/linalg/_basic.py\u001b[0m in \u001b[0;36msolve\u001b[0;34m(a, b, lower, overwrite_a, overwrite_b, check_finite, assume_a, transposed)\u001b[0m\n\u001b[1;32m    219\u001b[0m         \u001b[0mlu\u001b[0m\u001b[0;34m,\u001b[0m \u001b[0mipvt\u001b[0m\u001b[0;34m,\u001b[0m \u001b[0minfo\u001b[0m \u001b[0;34m=\u001b[0m \u001b[0mgetrf\u001b[0m\u001b[0;34m(\u001b[0m\u001b[0ma1\u001b[0m\u001b[0;34m,\u001b[0m \u001b[0moverwrite_a\u001b[0m\u001b[0;34m=\u001b[0m\u001b[0moverwrite_a\u001b[0m\u001b[0;34m)\u001b[0m\u001b[0;34m\u001b[0m\u001b[0;34m\u001b[0m\u001b[0m\n\u001b[1;32m    220\u001b[0m         \u001b[0m_solve_check\u001b[0m\u001b[0;34m(\u001b[0m\u001b[0mn\u001b[0m\u001b[0;34m,\u001b[0m \u001b[0minfo\u001b[0m\u001b[0;34m)\u001b[0m\u001b[0;34m\u001b[0m\u001b[0;34m\u001b[0m\u001b[0m\n\u001b[0;32m--> 221\u001b[0;31m         x, info = getrs(lu, ipvt, b1,\n\u001b[0m\u001b[1;32m    222\u001b[0m                         trans=trans, overwrite_b=overwrite_b)\n\u001b[1;32m    223\u001b[0m         \u001b[0m_solve_check\u001b[0m\u001b[0;34m(\u001b[0m\u001b[0mn\u001b[0m\u001b[0;34m,\u001b[0m \u001b[0minfo\u001b[0m\u001b[0;34m)\u001b[0m\u001b[0;34m\u001b[0m\u001b[0;34m\u001b[0m\u001b[0m\n",
            "\u001b[0;31mKeyboardInterrupt\u001b[0m: "
          ]
        }
      ]
    },
    {
      "cell_type": "markdown",
      "source": [
        "Avaliação"
      ],
      "metadata": {
        "id": "OnJ2HMhnzoRi"
      }
    },
    {
      "cell_type": "code",
      "source": [
        "y_pred = mlp.predict(X_test)\n",
        "\n",
        "cm=confusion_matrix(y_test,y_pred)\n",
        "disp = ConfusionMatrixDisplay(confusion_matrix=cm)\n",
        "disp.plot()\n",
        "print(classification_report(y_test,y_pred))"
      ],
      "metadata": {
        "id": "hE7b9COW0QdB"
      },
      "execution_count": null,
      "outputs": []
    },
    {
      "cell_type": "markdown",
      "source": [
        "# **Clusterização e predição 2**"
      ],
      "metadata": {
        "id": "bc6c2TXy3hSl"
      }
    },
    {
      "cell_type": "code",
      "source": [
        "datacluster = X_cluster\n",
        "datacluster_y = datacluster[\"Target\"]\n",
        "print(datacluster[\"Target\"])\n",
        "\n",
        "# one_hot_target = pd.get_dummies(datacluster[ [\"Target\"] ])\n",
        "# datacluster = pd.concat([ datacluster,one_hot_target], axis=1)\n",
        "\n",
        "datacluster1 = datacluster.drop(columns={\"Target\"})\n",
        "# print(datacluster1.info())\n",
        "\n",
        "\n"
      ],
      "metadata": {
        "colab": {
          "base_uri": "https://localhost:8080/"
        },
        "id": "a91P87wj3osl",
        "outputId": "78686ded-c414-48fb-bf52-ffe344abed5f"
      },
      "execution_count": null,
      "outputs": [
        {
          "output_type": "stream",
          "name": "stdout",
          "text": [
            "0       Diminuiu\n",
            "1       Aumentou\n",
            "2       Aumentou\n",
            "3       Aumentou\n",
            "4       Diminuiu\n",
            "          ...   \n",
            "5768    Aumentou\n",
            "5769    Diminuiu\n",
            "5770    Aumentou\n",
            "5771    Aumentou\n",
            "5772    Aumentou\n",
            "Name: Target, Length: 5773, dtype: object\n"
          ]
        }
      ]
    },
    {
      "cell_type": "code",
      "source": [
        "from sklearn.preprocessing import StandardScaler\n",
        "from sklearn.cluster import KMeans\n",
        "k = 200\n",
        "scaler = StandardScaler()\n",
        "datacluster2 = scaler.fit_transform(datacluster1)\n",
        "datacluster2 = pd.DataFrame(datacluster2, columns = datacluster1.columns)\n",
        "datacluster_select = datacluster2[[\"Populacao\", \"mun_ALTITUDE\", \"mun_AREA\"]]"
      ],
      "metadata": {
        "id": "L6Sb1jaP6elI"
      },
      "execution_count": null,
      "outputs": []
    },
    {
      "cell_type": "code",
      "source": [
        "kmeans2 = KMeans(n_clusters=k, random_state=0, n_init=\"auto\", max_iter=500).fit(datacluster_select)\n",
        "print(kmeans2.labels_)\n",
        "print(kmeans2.inertia_)\n",
        "# kmeans.feature_names_in_\n",
        "datacluster2.loc[:,\"cluster\"] = kmeans2.labels_\n",
        "\n",
        "datacluster2 = datacluster2.drop(columns={\"Populacao\", \"mun_ALTITUDE\", \"mun_AREA\"})\n",
        "\n",
        "datacluster2_percent = datacluster2[\"cluster\"].value_counts().div(len(X))\n",
        "print(datacluster2_percent)\n",
        "datacluster2.info()"
      ],
      "metadata": {
        "colab": {
          "base_uri": "https://localhost:8080/"
        },
        "id": "sg70BYDs7xTG",
        "outputId": "40ddcad6-bd8e-4540-80c7-4f4c37699b40"
      },
      "execution_count": null,
      "outputs": [
        {
          "output_type": "stream",
          "name": "stdout",
          "text": [
            "[ 51   9  56 ... 143  83  93]\n",
            "164.6595721716503\n",
            "cluster\n",
            "9      0.023731\n",
            "30     0.020786\n",
            "111    0.018535\n",
            "56     0.018361\n",
            "126    0.016456\n",
            "         ...   \n",
            "161    0.000173\n",
            "186    0.000173\n",
            "49     0.000173\n",
            "62     0.000173\n",
            "6      0.000173\n",
            "Name: count, Length: 200, dtype: float64\n",
            "<class 'pandas.core.frame.DataFrame'>\n",
            "RangeIndex: 5773 entries, 0 to 5772\n",
            "Data columns (total 43 columns):\n",
            " #   Column                                 Non-Null Count  Dtype  \n",
            "---  ------                                 --------------  -----  \n",
            " 0   pop_beneficiada                        5773 non-null   float64\n",
            " 1   vlr_investimento                       5773 non-null   float64\n",
            " 2   tot_veic                               5773 non-null   float64\n",
            " 3   cluster_empreendimento_IMPLANTACAO     5773 non-null   float64\n",
            " 4   cluster_empreendimento_INFRAESTRUTURA  5773 non-null   float64\n",
            " 5   cluster_empreendimento_PAVIMENTACAO    5773 non-null   float64\n",
            " 6   cluster_empreendimento_RECAPEAMENTO    5773 non-null   float64\n",
            " 7   programa_AVANÇAR PÚBLICO               5773 non-null   float64\n",
            " 8   programa_EMENDAS                       5773 non-null   float64\n",
            " 9   programa_PAC FIN                       5773 non-null   float64\n",
            " 10  uf_SIGLA_UF_AC                         5773 non-null   float64\n",
            " 11  uf_SIGLA_UF_AL                         5773 non-null   float64\n",
            " 12  uf_SIGLA_UF_AM                         5773 non-null   float64\n",
            " 13  uf_SIGLA_UF_BA                         5773 non-null   float64\n",
            " 14  uf_SIGLA_UF_CE                         5773 non-null   float64\n",
            " 15  uf_SIGLA_UF_ES                         5773 non-null   float64\n",
            " 16  uf_SIGLA_UF_GO                         5773 non-null   float64\n",
            " 17  uf_SIGLA_UF_MA                         5773 non-null   float64\n",
            " 18  uf_SIGLA_UF_MG                         5773 non-null   float64\n",
            " 19  uf_SIGLA_UF_MS                         5773 non-null   float64\n",
            " 20  uf_SIGLA_UF_MT                         5773 non-null   float64\n",
            " 21  uf_SIGLA_UF_PA                         5773 non-null   float64\n",
            " 22  uf_SIGLA_UF_PB                         5773 non-null   float64\n",
            " 23  uf_SIGLA_UF_PE                         5773 non-null   float64\n",
            " 24  uf_SIGLA_UF_PI                         5773 non-null   float64\n",
            " 25  uf_SIGLA_UF_PR                         5773 non-null   float64\n",
            " 26  uf_SIGLA_UF_RJ                         5773 non-null   float64\n",
            " 27  uf_SIGLA_UF_RN                         5773 non-null   float64\n",
            " 28  uf_SIGLA_UF_RO                         5773 non-null   float64\n",
            " 29  uf_SIGLA_UF_RR                         5773 non-null   float64\n",
            " 30  uf_SIGLA_UF_RS                         5773 non-null   float64\n",
            " 31  uf_SIGLA_UF_SC                         5773 non-null   float64\n",
            " 32  uf_SIGLA_UF_SE                         5773 non-null   float64\n",
            " 33  uf_SIGLA_UF_SP                         5773 non-null   float64\n",
            " 34  uf_SIGLA_UF_TO                         5773 non-null   float64\n",
            " 35  acao_10SS                              5773 non-null   float64\n",
            " 36  acao_10ST                              5773 non-null   float64\n",
            " 37  acao_10T2                              5773 non-null   float64\n",
            " 38  acao_1D73                              5773 non-null   float64\n",
            " 39  acao_20NR                              5773 non-null   float64\n",
            " 40  acao_FGTS                              5773 non-null   float64\n",
            " 41  acao_Outra                             5773 non-null   float64\n",
            " 42  cluster                                5773 non-null   int32  \n",
            "dtypes: float64(42), int32(1)\n",
            "memory usage: 1.9 MB\n"
          ]
        }
      ]
    },
    {
      "cell_type": "code",
      "source": [
        "from sklearn.preprocessing import KBinsDiscretizer\n",
        "# datacluster2.info()\n",
        "# datacluster3 = datacluster2.drop(columns={\"Target_Aumentou\",\"Target_Diminuiu\"})\n",
        "datacluster2[\"cluster\"] = datacluster2[\"cluster\"].astype(str)\n",
        "one_hot_cluster = pd.get_dummies(datacluster2[ [\"cluster\"] ])\n",
        "print(one_hot_cluster)\n",
        "datacluster3 = pd.concat([ datacluster2, one_hot_cluster], axis=1)\n",
        "# datacluster3.info()\n"
      ],
      "metadata": {
        "colab": {
          "base_uri": "https://localhost:8080/"
        },
        "id": "FYn_OqyA8NF-",
        "outputId": "8ea76f96-25e0-4e08-c4fc-45b577464d03"
      },
      "execution_count": null,
      "outputs": [
        {
          "output_type": "stream",
          "name": "stdout",
          "text": [
            "      cluster_0  cluster_1  cluster_10  cluster_100  cluster_101  cluster_102  \\\n",
            "0         False      False       False        False        False        False   \n",
            "1         False      False       False        False        False        False   \n",
            "2         False      False       False        False        False        False   \n",
            "3         False      False       False        False        False        False   \n",
            "4         False      False       False        False        False        False   \n",
            "...         ...        ...         ...          ...          ...          ...   \n",
            "5768      False      False       False        False        False        False   \n",
            "5769      False      False       False        False        False        False   \n",
            "5770      False      False       False        False        False        False   \n",
            "5771      False      False       False        False        False        False   \n",
            "5772      False      False       False        False        False        False   \n",
            "\n",
            "      cluster_103  cluster_104  cluster_105  cluster_106  ...  cluster_90  \\\n",
            "0           False        False        False        False  ...       False   \n",
            "1           False        False        False        False  ...       False   \n",
            "2           False        False        False        False  ...       False   \n",
            "3           False        False        False        False  ...       False   \n",
            "4           False        False        False        False  ...       False   \n",
            "...           ...          ...          ...          ...  ...         ...   \n",
            "5768        False        False        False        False  ...       False   \n",
            "5769        False        False        False        False  ...       False   \n",
            "5770        False        False        False        False  ...       False   \n",
            "5771        False        False        False        False  ...       False   \n",
            "5772        False        False        False        False  ...       False   \n",
            "\n",
            "      cluster_91  cluster_92  cluster_93  cluster_94  cluster_95  cluster_96  \\\n",
            "0          False       False       False       False       False       False   \n",
            "1          False       False       False       False       False       False   \n",
            "2          False       False       False       False       False       False   \n",
            "3          False       False       False       False       False       False   \n",
            "4          False       False       False       False       False       False   \n",
            "...          ...         ...         ...         ...         ...         ...   \n",
            "5768       False       False       False       False       False       False   \n",
            "5769       False       False       False       False       False       False   \n",
            "5770       False       False       False       False       False       False   \n",
            "5771       False       False       False       False       False       False   \n",
            "5772       False       False        True       False       False       False   \n",
            "\n",
            "      cluster_97  cluster_98  cluster_99  \n",
            "0          False       False       False  \n",
            "1          False       False       False  \n",
            "2          False       False       False  \n",
            "3          False       False       False  \n",
            "4          False       False       False  \n",
            "...          ...         ...         ...  \n",
            "5768       False       False       False  \n",
            "5769       False       False       False  \n",
            "5770       False       False       False  \n",
            "5771       False       False       False  \n",
            "5772       False       False       False  \n",
            "\n",
            "[5773 rows x 200 columns]\n"
          ]
        }
      ]
    },
    {
      "cell_type": "code",
      "source": [
        "print(datacluster3['vlr_investimento'])\n",
        "print(datacluster_y)"
      ],
      "metadata": {
        "colab": {
          "base_uri": "https://localhost:8080/"
        },
        "id": "M5U6ntJABrZD",
        "outputId": "fef64bc4-7fd0-4408-e321-bb1e42967f2e"
      },
      "execution_count": null,
      "outputs": [
        {
          "output_type": "stream",
          "name": "stdout",
          "text": [
            "0       1.477588\n",
            "1       1.303786\n",
            "2       6.623765\n",
            "3       4.114068\n",
            "4       6.532302\n",
            "          ...   \n",
            "5768   -0.216751\n",
            "5769   -0.372697\n",
            "5770    0.387017\n",
            "5771    1.362645\n",
            "5772    6.220922\n",
            "Name: vlr_investimento, Length: 5773, dtype: float64\n",
            "0       Diminuiu\n",
            "1       Aumentou\n",
            "2       Aumentou\n",
            "3       Aumentou\n",
            "4       Diminuiu\n",
            "          ...   \n",
            "5768    Aumentou\n",
            "5769    Diminuiu\n",
            "5770    Aumentou\n",
            "5771    Aumentou\n",
            "5772    Aumentou\n",
            "Name: Target, Length: 5773, dtype: object\n"
          ]
        }
      ]
    },
    {
      "cell_type": "code",
      "source": [
        "datacluster4 = datacluster3.drop(columns={\"cluster\"})\n",
        "# datacluster4.info()"
      ],
      "metadata": {
        "id": "NN4L0LNVE5SF"
      },
      "execution_count": null,
      "outputs": []
    },
    {
      "cell_type": "code",
      "source": [
        "X_train, X_test, y_train, y_test = train_test_split(datacluster4, datacluster_y, test_size=0.3, random_state=42,stratify=y)"
      ],
      "metadata": {
        "id": "67Ck6H5BFizp"
      },
      "execution_count": null,
      "outputs": []
    },
    {
      "cell_type": "code",
      "source": [
        "from sklearn.ensemble import RandomForestClassifier\n",
        "\n",
        "\n",
        "\n",
        "model = RandomForestClassifier(criterion='gini', max_depth= 80) # 0.57\n",
        "model.fit(X_train,y_train)\n",
        "# print(model.depth)\n",
        "\n",
        "y_pred = model.predict(X_test)\n",
        "\n",
        "cm=confusion_matrix(y_test,y_pred)\n",
        "disp = ConfusionMatrixDisplay(confusion_matrix=cm)\n",
        "disp.plot()\n",
        "print(classification_report(y_test,y_pred))"
      ],
      "metadata": {
        "colab": {
          "base_uri": "https://localhost:8080/",
          "height": 605
        },
        "id": "nMMkZMwYF4_I",
        "outputId": "ddda2f4c-ba26-4ec4-899a-e3b6f7284d29"
      },
      "execution_count": null,
      "outputs": [
        {
          "output_type": "stream",
          "name": "stdout",
          "text": [
            "              precision    recall  f1-score   support\n",
            "\n",
            "    Aumentou       0.66      0.73      0.69       983\n",
            "    Diminuiu       0.59      0.50      0.54       749\n",
            "\n",
            "    accuracy                           0.63      1732\n",
            "   macro avg       0.62      0.61      0.62      1732\n",
            "weighted avg       0.63      0.63      0.63      1732\n",
            "\n"
          ]
        },
        {
          "output_type": "display_data",
          "data": {
            "text/plain": [
              "<Figure size 640x480 with 2 Axes>"
            ],
            "image/png": "[encoded data removed]"
          },
          "metadata": {}
        }
      ]
    },
    {
      "cell_type": "code",
      "source": [],
      "metadata": {
        "id": "OA2biS8-cpyr"
      },
      "execution_count": null,
      "outputs": []
    },
    {
      "cell_type": "code",
      "source": [
        "from sklearn.neural_network import MLPClassifier\n",
        "\n",
        "\n",
        "mlp = MLPClassifier(hidden_layer_sizes=(100,100,100,100,100),max_iter=10000,random_state=1, activation='relu', solver='adam', alpha=0.0001)\n",
        "mlp.fit(X_train, y_train.values.ravel())\n",
        "\n",
        "y_pred = model.predict(X_test)\n",
        "\n",
        "cm=confusion_matrix(y_test,y_pred)\n",
        "disp = ConfusionMatrixDisplay(confusion_matrix=cm)\n",
        "disp.plot()\n",
        "print(classification_report(y_test,y_pred))\n",
        "\n",
        "# from sklearn.neural_network import MLPClassifier\n",
        "\n",
        "\n",
        "# mlp = MLPClassifier(hidden_layer_sizes=(100,200,70),max_iter=8000,random_state=1, activation='relu', solver='adam', alpha=0.001)\n",
        "# mlp.fit(X_train, y_train.values.ravel())\n",
        "\n"
      ],
      "metadata": {
        "colab": {
          "base_uri": "https://localhost:8080/",
          "height": 605
        },
        "outputId": "0d550cdf-07b8-4962-bc22-f5415734b7f7",
        "id": "tiuvS4tTcqGA"
      },
      "execution_count": null,
      "outputs": [
        {
          "output_type": "stream",
          "name": "stdout",
          "text": [
            "              precision    recall  f1-score   support\n",
            "\n",
            "    Aumentou       0.66      0.73      0.69       983\n",
            "    Diminuiu       0.59      0.50      0.54       749\n",
            "\n",
            "    accuracy                           0.63      1732\n",
            "   macro avg       0.62      0.61      0.62      1732\n",
            "weighted avg       0.63      0.63      0.63      1732\n",
            "\n"
          ]
        },
        {
          "output_type": "display_data",
          "data": {
            "text/plain": [
              "<Figure size 640x480 with 2 Axes>"
            ],
            "image/png": "[encoded data removed]"
          },
          "metadata": {}
        }
      ]
    }
  ]
}